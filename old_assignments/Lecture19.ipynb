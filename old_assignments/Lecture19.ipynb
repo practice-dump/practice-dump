{
 "cells": [
  {
   "cell_type": "markdown",
   "metadata": {},
   "source": [
    "## Pattern Matching and Replacement in Python"
   ]
  },
  {
   "cell_type": "markdown",
   "metadata": {},
   "source": [
    "We will try illustrate the power of regular expressions in describing patterns and their use in search and replacing part of strings. This will by no means be an exhaustive study of the regular expression library of Python and as with other packages you have to read the documentation for all its features."
   ]
  },
  {
   "cell_type": "code",
   "execution_count": 1,
   "metadata": {},
   "outputs": [
    {
     "name": "stdout",
     "output_type": "stream",
     "text": [
      "<re.Match object; span=(28, 32), match='also'>\n"
     ]
    }
   ],
   "source": [
    "import re\n",
    "print(re.search(\"also\",\"This is a sentence. This is also a sentence.\"))"
   ]
  },
  {
   "cell_type": "markdown",
   "metadata": {},
   "source": [
    "It searches for the first match and returns a **match** object with details of the match.\n",
    "If there is no match it returns **None**."
   ]
  },
  {
   "cell_type": "code",
   "execution_count": 2,
   "metadata": {},
   "outputs": [
    {
     "name": "stdout",
     "output_type": "stream",
     "text": [
      "None\n"
     ]
    }
   ],
   "source": [
    "print(re.search(\"That\",\"This is a sentence. This is also a sentence\"))"
   ]
  },
  {
   "cell_type": "markdown",
   "metadata": {},
   "source": [
    "You can extract the location and the exact substring that matched."
   ]
  },
  {
   "cell_type": "code",
   "execution_count": 6,
   "metadata": {},
   "outputs": [
    {
     "name": "stdout",
     "output_type": "stream",
     "text": [
      "(1, 5)\n",
      "This\n"
     ]
    }
   ],
   "source": [
    "m = re.search(\"This\",\"This is a sentence. This is also a sentence.\")\n",
    "print(m.span())\n",
    "print(m.group())"
   ]
  },
  {
   "cell_type": "markdown",
   "metadata": {},
   "source": [
    "If you want to find all matches you can use "
   ]
  },
  {
   "cell_type": "code",
   "execution_count": 7,
   "metadata": {},
   "outputs": [
    {
     "name": "stdout",
     "output_type": "stream",
     "text": [
      "['This', 'This']\n"
     ]
    }
   ],
   "source": [
    "ls = re.findall(\"This\",\"This is a sentence. This is also a sentence.\")\n",
    "print(ls)"
   ]
  },
  {
   "cell_type": "markdown",
   "metadata": {},
   "source": [
    "If you want all matches returned to you as **match** objects use"
   ]
  },
  {
   "cell_type": "code",
   "execution_count": 10,
   "metadata": {},
   "outputs": [],
   "source": [
    "ms = re.finditer(\"This\",\"This is a sentence. This is also a sentence.\")"
   ]
  },
  {
   "cell_type": "code",
   "execution_count": 11,
   "metadata": {},
   "outputs": [
    {
     "name": "stdout",
     "output_type": "stream",
     "text": [
      "(0, 4) This\n",
      "(21, 25) This\n"
     ]
    }
   ],
   "source": [
    "for m in ms:\n",
    "    print(m.span(),m.group())"
   ]
  },
  {
   "cell_type": "markdown",
   "metadata": {},
   "source": [
    "#### Regular expressions "
   ]
  },
  {
   "cell_type": "markdown",
   "metadata": {},
   "source": [
    "A rich language to describe patterns. \n",
    "\n",
    "In the simplest forms it offers short forms for various groups of letters: \n",
    "\n",
    "  * \\s ---> matches a whitespace letter\n",
    "  * \\S ---> matches any letter that \\s does not\n",
    "  * \\d ---> matches a digit\n",
    "  * \\D ---> matches any letter that \\d does not\n",
    "  * \\w ---> matches a alphanumeric letter i.e.{a,...,z,A,...,Z,0,...,9}\n",
    "  * ..."
   ]
  },
  {
   "cell_type": "code",
   "execution_count": 14,
   "metadata": {},
   "outputs": [
    {
     "name": "stdout",
     "output_type": "stream",
     "text": [
      "(3, 6)\n",
      "s i\n",
      "(6, 9)\n",
      "s a\n",
      "(23, 26)\n",
      "s i\n",
      "(26, 29)\n",
      "s a\n",
      "(31, 34)\n",
      "o a\n"
     ]
    }
   ],
   "source": [
    "ms = re.finditer(\"\\w\\s\\w\",\"This is a sentence. This is also a sentence.\")\n",
    "for m in ms:\n",
    "    print(m.span())\n",
    "    print(m.group())"
   ]
  },
  {
   "cell_type": "markdown",
   "metadata": {},
   "source": [
    "Matches are disjoint. So, 'a s' is not part of the matches above."
   ]
  },
  {
   "cell_type": "markdown",
   "metadata": {},
   "source": [
    "You can also match one of a set of letters by enclosing them between [ and ]"
   ]
  },
  {
   "cell_type": "code",
   "execution_count": 15,
   "metadata": {},
   "outputs": [
    {
     "name": "stdout",
     "output_type": "stream",
     "text": [
      "(1, 4)\n",
      "his\n",
      "(10, 13)\n",
      "sen\n",
      "(13, 16)\n",
      "ten\n",
      "(21, 24)\n",
      "his\n",
      "(35, 38)\n",
      "sen\n",
      "(38, 41)\n",
      "ten\n"
     ]
    }
   ],
   "source": [
    "ms = re.finditer(\"\\w[aeiou]\\w\",\"This is a sentence. This is also a sentence.\")\n",
    "for m in ms:\n",
    "    print(m.span())\n",
    "    print(m.group())"
   ]
  },
  {
   "cell_type": "markdown",
   "metadata": {},
   "source": [
    "You can complement a character class such as [aeiou] by adding a ^ at the beginning."
   ]
  },
  {
   "cell_type": "code",
   "execution_count": 16,
   "metadata": {},
   "outputs": [
    {
     "name": "stdout",
     "output_type": "stream",
     "text": [
      "['T', 'h', 's', ' ', 's', ' ', ' ', 's', 'n', 't', 'n', 'c', '.', ' ', 'T', 'h', 's', ' ', 's', ' ', 'l', 's', ' ', ' ', 's', 'n', 't', 'n', 'c', '.']\n"
     ]
    }
   ],
   "source": [
    "print(re.findall(\"[^aeiou]\",\"This is a sentence. This is also a sentence.\"))"
   ]
  },
  {
   "cell_type": "markdown",
   "metadata": {},
   "source": [
    "There are special patterns that identify the beginning of a line, end of a line (and similarly with words).\n",
    "^ matches beginning of the line. It matches a empty string. Similarly $ matches a empty string at the end of the line."
   ]
  },
  {
   "cell_type": "code",
   "execution_count": 3,
   "metadata": {},
   "outputs": [
    {
     "name": "stdout",
     "output_type": "stream",
     "text": [
      "(0, 0)\n",
      "(24, 24)\n",
      "(49, 49)\n"
     ]
    }
   ],
   "source": [
    "ms = re.finditer(\"^\",\"This is the first Line.\\nWhat about This? Second?\\n Third Line\",re.MULTILINE)\n",
    "for m in ms:\n",
    "    print(m.span())"
   ]
  },
  {
   "cell_type": "code",
   "execution_count": 20,
   "metadata": {},
   "outputs": [
    {
     "name": "stdout",
     "output_type": "stream",
     "text": [
      "(60, 60)\n"
     ]
    }
   ],
   "source": [
    "ms = re.finditer(\"$\",\"This is the first Line.\\nWhat about This? Second?\\n Third Line\")\n",
    "for m in ms:\n",
    "    print(m.span())"
   ]
  },
  {
   "cell_type": "markdown",
   "metadata": {},
   "source": [
    "Without the option MULTILINE it simply treats the entire input as one line."
   ]
  },
  {
   "cell_type": "code",
   "execution_count": 25,
   "metadata": {},
   "outputs": [
    {
     "name": "stdout",
     "output_type": "stream",
     "text": [
      "['', '', '']\n"
     ]
    }
   ],
   "source": [
    "ms = re.findall(\"^\",\"This is the first Line.\\nWhat about this? Second?\\n Third Line\",re.MULTILINE)\n",
    "print(ms)"
   ]
  },
  {
   "cell_type": "markdown",
   "metadata": {},
   "source": [
    "Observe that the pattern ^ matches an empty string. It matches empty strings at the beginning of a line. \n",
    "Similarly the pattern $ matches an empty string at the end of the line.  (Incidentally, . matches any character)"
   ]
  },
  {
   "cell_type": "code",
   "execution_count": 28,
   "metadata": {},
   "outputs": [
    {
     "name": "stdout",
     "output_type": "stream",
     "text": [
      "['T', 'W', ' ']\n"
     ]
    }
   ],
   "source": [
    "ms = re.findall(\"^.\",\"This is the first Line.\\nWhat about this? Second?\\n Third Line\",re.MULTILINE)\n",
    "print(ms) "
   ]
  },
  {
   "cell_type": "markdown",
   "metadata": {},
   "source": [
    "#### Searching for repeated patterns"
   ]
  },
  {
   "cell_type": "markdown",
   "metadata": {},
   "source": [
    "Adding a **\\*** after a pattern denotes 0 or more successive occurrences of the pattern.\n",
    "\n",
    "Adding a **+** after a pattern denotes 1 or more successive occurrences of the pattern."
   ]
  },
  {
   "cell_type": "code",
   "execution_count": 29,
   "metadata": {},
   "outputs": [
    {
     "name": "stdout",
     "output_type": "stream",
     "text": [
      "30\n",
      "400\n"
     ]
    }
   ],
   "source": [
    "ms = re.finditer(\"\\d+\",\"30 is a number and so is 400\")\n",
    "for m in ms:\n",
    "    print(m.group())"
   ]
  },
  {
   "cell_type": "markdown",
   "metadata": {},
   "source": [
    "Why did it not match just **3** or **4** or **40**? \n",
    "\n",
    "       Because, matching in **re**  is designed to match *greedily*. That is, for all matches that start at a    \n",
    "       position, it picks the longest. Then skips to the end of this match and continues searching for the next \n",
    "       match and so on."
   ]
  },
  {
   "cell_type": "code",
   "execution_count": 5,
   "metadata": {},
   "outputs": [
    {
     "name": "stdout",
     "output_type": "stream",
     "text": [
      "30\n",
      "\n",
      "\n",
      "\n",
      "\n",
      "400\n",
      "\n"
     ]
    }
   ],
   "source": [
    "ms = re.finditer(\"\\d*\",\"30 is 400\")\n",
    "for m in ms:\n",
    "    print(m.group())"
   ]
  },
  {
   "cell_type": "markdown",
   "metadata": {},
   "source": [
    "What happened there? \n",
    "star denotes 0 or more so it is counting other characters such as spaces also"
   ]
  },
  {
   "cell_type": "code",
   "execution_count": 31,
   "metadata": {},
   "outputs": [
    {
     "name": "stdout",
     "output_type": "stream",
     "text": [
      "['30', '', '', '', '', '400', '']\n"
     ]
    }
   ],
   "source": [
    "print(re.findall(\"\\d*\",\"30 is 400\"))"
   ]
  },
  {
   "cell_type": "code",
   "execution_count": 32,
   "metadata": {},
   "outputs": [
    {
     "name": "stdout",
     "output_type": "stream",
     "text": [
      "30 (0, 2)\n",
      " (2, 2)\n",
      " (3, 3)\n",
      " (4, 4)\n",
      " (5, 5)\n",
      "400 (6, 9)\n",
      " (9, 9)\n"
     ]
    }
   ],
   "source": [
    "ms = re.finditer(\"\\d*\",\"30 is 400\")\n",
    "for m in ms:\n",
    "    print(m.group(),m.span())"
   ]
  },
  {
   "cell_type": "markdown",
   "metadata": {},
   "source": [
    "The other 5 matches are empty string matches starting positions 2,3,4,5 and 9. Remember **\\*** matches 0 occurrences as well."
   ]
  },
  {
   "cell_type": "markdown",
   "metadata": {},
   "source": [
    "### Redoing words and findInts using re"
   ]
  },
  {
   "cell_type": "markdown",
   "metadata": {},
   "source": [
    "Finding words is easy. It is just what we get if we greedily match sequences of non-whitespace letters."
   ]
  },
  {
   "cell_type": "code",
   "execution_count": 33,
   "metadata": {},
   "outputs": [
    {
     "name": "stdout",
     "output_type": "stream",
     "text": [
      "['This', 'is', 'a', 'long', 'and', 'boring', 'sentence.', 'This', 'is', 'another,', 'and', 'so', 'on.']\n"
     ]
    }
   ],
   "source": [
    "print(re.findall(\"\\S+\",\" This is a long and boring sentence. \\nThis is another, and   so on.\"))"
   ]
  },
  {
   "cell_type": "markdown",
   "metadata": {},
   "source": [
    "#### Compiling Regular Expressions"
   ]
  },
  {
   "cell_type": "markdown",
   "metadata": {},
   "source": [
    "It turns out that converting a regular expression into an appropriate state machine is an expensive operation. So, if we plan to search the same pattern several times then it is best to *store* this intermediate step and use it for the search. This is done by **compiling** the expression. "
   ]
  },
  {
   "cell_type": "code",
   "execution_count": 34,
   "metadata": {},
   "outputs": [
    {
     "name": "stdout",
     "output_type": "stream",
     "text": [
      "['This', 'is', 'a', 'long', 'and', 'boring', 'sentence.', 'This', 'is', 'another,', 'and', 'so', 'on.']\n"
     ]
    }
   ],
   "source": [
    "words = re.compile(r\"\\S+\")\n",
    "print(words.findall(\" This is a long and boring sentence. \\nThis is another, and   so on.\"))"
   ]
  },
  {
   "cell_type": "code",
   "execution_count": 35,
   "metadata": {},
   "outputs": [
    {
     "data": {
      "text/plain": [
       "['Another', 'sentence.']"
      ]
     },
     "execution_count": 35,
     "metadata": {},
     "output_type": "execute_result"
    }
   ],
   "source": [
    "words.findall(\"Another sentence. \")"
   ]
  },
  {
   "cell_type": "markdown",
   "metadata": {},
   "source": [
    "Finding integers is slightly more involved --- we still have to learn how to peep into the next letter in **re**"
   ]
  },
  {
   "cell_type": "markdown",
   "metadata": {},
   "source": [
    "#### Look Aheads in Python "
   ]
  },
  {
   "cell_type": "markdown",
   "metadata": {},
   "source": [
    "The pattern **(?=re)** tests if the letters following this position match the pattern **re** and matches the empty string if they do. Thus, it looks ahead to see if there is a match of **re** following this position. \n",
    "\n",
    "The pattern **(?!re)** verifies that the letters following this position do NOT match the pattern **re** and matches the empty string in this case."
   ]
  },
  {
   "cell_type": "code",
   "execution_count": 7,
   "metadata": {},
   "outputs": [
    {
     "name": "stdout",
     "output_type": "stream",
     "text": [
      "['T', 'T']\n"
     ]
    }
   ],
   "source": [
    "ms = re.findall(\"T(?=hi)\",\"This and That but only This Matches\")\n",
    "print(ms)"
   ]
  },
  {
   "cell_type": "code",
   "execution_count": 39,
   "metadata": {},
   "outputs": [
    {
     "name": "stdout",
     "output_type": "stream",
     "text": [
      "T (0, 1)\n",
      "T (23, 24)\n"
     ]
    }
   ],
   "source": [
    "ms = re.finditer(\"T(?=hi)\",\"This and That but only This Matches\")\n",
    "for m in ms:\n",
    "    print(m.group(), m.span())"
   ]
  },
  {
   "cell_type": "code",
   "execution_count": 11,
   "metadata": {},
   "outputs": [
    {
     "name": "stdout",
     "output_type": "stream",
     "text": [
      "T (5, 6)\n",
      "T (10, 11)\n",
      "T (20, 21)\n"
     ]
    }
   ],
   "source": [
    "ms = re.finditer(\"T(?!hi)\",\"This That This That\")\n",
    "for m in ms:\n",
    "    print(m.group(), m.span())"
   ]
  },
  {
   "cell_type": "markdown",
   "metadata": {},
   "source": [
    "Now we can formulate **integers** as used in the previous lecture as:\n",
    "\n",
    "    maximal sequences of digits, \n",
    "    not immediately following a . and\n",
    "    not immediately followed by a . followed by 1 or more digits.\n",
    "    \n",
    "The obvious strategy fails!"
   ]
  },
  {
   "cell_type": "code",
   "execution_count": 15,
   "metadata": {},
   "outputs": [
    {
     "data": {
      "text/plain": [
       "[' 20', ' 8', '14', ' 30', 'a39', ' 39', '45', '382', '45']"
      ]
     },
     "execution_count": 15,
     "metadata": {},
     "output_type": "execute_result"
    }
   ],
   "source": [
    "intsRE = re.compile(r'[^.]\\d+(?![.]\\d)')\n",
    "intsRE.findall('''This is a long sentence, of more than 20 letters and 8 words. I may have real numbers such as 3.14 in this, but it should not print them out. But\n",
    "integers can be the last word in a sentence such as 30. The word a39b contains the integer 39..45 and .382. That was just to confuse the issue. Does it work with .45?''')"
   ]
  },
  {
   "cell_type": "markdown",
   "metadata": {},
   "source": [
    "There are several issues. To start with\n",
    "    * The pattern includes the character preceding the \"supposed\" integer we wish to pick. (see \" 20\")\n",
    "    "
   ]
  },
  {
   "cell_type": "markdown",
   "metadata": {},
   "source": [
    "We may get around this by grouping the part we need and leaving rest out. This is done by placing the relevant part inside ( )."
   ]
  },
  {
   "cell_type": "code",
   "execution_count": 41,
   "metadata": {},
   "outputs": [
    {
     "data": {
      "text/plain": [
       "['20', '8', '4', '30', '39', '39', '5', '82', '5']"
      ]
     },
     "execution_count": 41,
     "metadata": {},
     "output_type": "execute_result"
    }
   ],
   "source": [
    "intsRE = re.compile(r'[^.](\\d+(?![.]\\d))')\n",
    "intsRE.findall('''This is a long sentence, of more than 20 letters and 8 words. I may have real numbers such as 3.14 in this, but it should not print them out. But\n",
    "integers can be the last word in a sentence such as 30. The word a39b contains the integer 39..45 and .382. That was just to confuse the issue. Does it work with .45?''')"
   ]
  },
  {
   "cell_type": "markdown",
   "metadata": {},
   "source": [
    "Do you now realise why you got a \"14\" earlier (which is part of 3.14 and should not have been there) and why you get a \"4\" now (again part of the same 3.14)? "
   ]
  },
  {
   "cell_type": "markdown",
   "metadata": {},
   "source": [
    "In the first attempt, the *14* got picked because \n",
    "    1) *1* matched **[^.]** \n",
    "    2) *4* matched **\\d+** and \n",
    "    3) the following \" \" tests True for **(?![.]\\d))**\n"
   ]
  },
  {
   "cell_type": "markdown",
   "metadata": {},
   "source": [
    "In the second attempt, the *1* got dropped but the *4* remains."
   ]
  },
  {
   "cell_type": "markdown",
   "metadata": {},
   "source": [
    "The problem is that a digit (such as *1*) may match **[^.]**. This was not our intention. We wanted that the letter preceding this entire sequence of digits is NOT . \n",
    "\n",
    "One way to arrange this is to demand that the previous letter should not be a digit either."
   ]
  },
  {
   "cell_type": "code",
   "execution_count": null,
   "metadata": {},
   "outputs": [],
   "source": [
    "intsRE = re.compile(r'[^.\\d](\\d+(?![.]\\d))')\n",
    "intsRE.findall('''This is a long sentence, of more than 20 letters and 8 words. I may have real numbers such as 3.14 in this, but it should not print them out. But\n",
    "integers can be the last word in a sentence such as 30. The word a39b contains the integer 39..45 and .382. That was just to confuse the issue. Does it work with .45?''')"
   ]
  },
  {
   "cell_type": "markdown",
   "metadata": {},
   "source": [
    "Python also allows lookbehinds, which test whether the immediately preceding string satisfies some re. The syntax is\n",
    "**(?<=re)** and **(?<!re)**"
   ]
  },
  {
   "cell_type": "code",
   "execution_count": 42,
   "metadata": {},
   "outputs": [
    {
     "data": {
      "text/plain": [
       "['20', '8', '30', '39', '39']"
      ]
     },
     "execution_count": 42,
     "metadata": {},
     "output_type": "execute_result"
    }
   ],
   "source": [
    "intsRE = re.compile(r'(?<![.\\d])\\d+(?![.]\\d)')\n",
    "intsRE.findall('''This is a long sentence, of more than 20 letters and 8 words. I may have real numbers such as 3.14 in this, but it should not print them out. But\n",
    "integers can be the last word in a sentence such as 30. The word a39b contains the integer 39..45 and .382. That was just to confuse the issue. Does it work with .45?''')"
   ]
  },
  {
   "cell_type": "markdown",
   "metadata": {},
   "source": [
    "### More on Grouping"
   ]
  },
  {
   "cell_type": "markdown",
   "metadata": {},
   "source": [
    "Grouping allows you to break up the matched part of the string into pieces. Given a line from a CSV file with userID, first name and last names per line, here is way to extract the different fields using re."
   ]
  },
  {
   "cell_type": "code",
   "execution_count": 12,
   "metadata": {},
   "outputs": [
    {
     "name": "stdout",
     "output_type": "stream",
     "text": [
      "gvr,Guido,von Rossum\n",
      "gvr\n",
      "Guido\n",
      "von Rossum\n"
     ]
    }
   ],
   "source": [
    "getUIDLastName = re.compile(r'([^,]*),([^,]*),([^,]*)')\n",
    "m = getUIDLastName.search(\"gvr,Guido,von Rossum\")\n",
    "print(m.group(0))\n",
    "print(m.group(1))\n",
    "print(m.group(2))\n",
    "print(m.group(3))"
   ]
  },
  {
   "cell_type": "markdown",
   "metadata": {},
   "source": [
    "#### Extracting domain names "
   ]
  },
  {
   "cell_type": "markdown",
   "metadata": {},
   "source": [
    "Let us consider a simplified version of email addreses. We will require that every email id be of the form \n",
    "\n",
    "     username@domainname\n",
    "     \n",
    "where *username* is a sequence of letters that are alpha-numeric or . or +. Further . or + cannot be the first character and  *domainname* is a sequence of words separated by . where each word uses alphanumeric letters only. \n",
    "\n",
    "We would like to read a file and print out all the domain names that appeared in an email address in that file. "
   ]
  },
  {
   "cell_type": "code",
   "execution_count": 9,
   "metadata": {},
   "outputs": [
    {
     "name": "stdout",
     "output_type": "stream",
     "text": [
      "guy.v.rossum@whatever.com\n",
      "gvr@whatever.org\n",
      "kernighan@att.com\n",
      "sergey.brin+pythoncourse@gmail.com\n",
      "kumar@cmi.ac.in\n"
     ]
    }
   ],
   "source": [
    "emailid = re.compile(r'([a-zA-Z0-9][a-zA-Z0-9.+]*)[@](([a-zA-Z0-9]+[.])*[a-zA-Z0-9]+)')\n",
    "with open(\"InputFile\",\"r\") as f:\n",
    "    s = f.read()\n",
    "    ms = emailid.finditer(s)\n",
    "    for m in ms:\n",
    "        print(m.group(0))"
   ]
  },
  {
   "cell_type": "code",
   "execution_count": 18,
   "metadata": {},
   "outputs": [
    {
     "name": "stdout",
     "output_type": "stream",
     "text": [
      "kumar\n",
      "t\n",
      "cmi.ac.in\n",
      "cmi.ac.in\n"
     ]
    }
   ],
   "source": [
    "def breakup(s):\n",
    "    words=re.compile(r\"\\S+\")\n",
    "    ms=words.finditer(s)\n",
    "    idlist=[]\n",
    "    domainlist=[]\n",
    "    templist=[]\n",
    "    for m in ms:\n",
    "        emailid = re.compile(r'([a-zA-Z0-9][a-zA-Z0-9.+]*[@])(([a-zA-Z0-9]+[.])*[a-zA-Z0-9]+)')\n",
    "        ms2=emailid.finditer(m.group())\n",
    "        for mq in ms2:\n",
    "            templist=mq.group().split(\"@\")\n",
    "            idlist.append(templist[0])\n",
    "            domainlist.append(templist[1])\n",
    "    for i in idlist:\n",
    "        print(i)\n",
    "    for j in domainlist:\n",
    "        print(j)\n",
    "            \n",
    "    \n",
    "    \n",
    "    \n",
    "breakup(\"My id is kumar@cmi.ac.in while @smi.ac.in is not valid but junk mail like t@cmi.ac.in.\")"
   ]
  },
  {
   "cell_type": "markdown",
   "metadata": {},
   "source": [
    "**Exercise:** In a html file links usually appear as follows:\n",
    "                       \n",
    "                 <sometag href=\"https://somedomainname\"> Something here which will serve as the link </sometag>\n",
    "\n",
    "Write a python function using **re** which identifies all the links that appear in a given string. A domainname itself is as described above. For instance in the above example the link is:\n",
    "\n",
    "                  https://somedomainname"
   ]
  },
  {
   "cell_type": "markdown",
   "metadata": {},
   "source": [
    "###  Substituting using re"
   ]
  },
  {
   "cell_type": "markdown",
   "metadata": {},
   "source": [
    "In addition to searching a string **re** also provides the ability to replaced the matched substrings with something else that you desire. Here is an example, which replaces all the email ids in a given string with postmaster@noname.com"
   ]
  },
  {
   "cell_type": "code",
   "execution_count": null,
   "metadata": {},
   "outputs": [],
   "source": [
    "emailidre = r'[a-zA-Z0-9][a-zA-Z0-9.+]*[@]([a-zA-Z0-9]+[.])*[a-zA-Z0-9]+'\n",
    "with open(\"InputFile\",\"r\") as f:\n",
    "    s = f.read()\n",
    "    print(re.sub(emailidre,\"postmaster@noname.com\",s),end=\"\")"
   ]
  },
  {
   "cell_type": "markdown",
   "metadata": {},
   "source": [
    "**re.sub(regexp,result,string)**  replaces all matchings of regexp in string with result."
   ]
  },
  {
   "cell_type": "markdown",
   "metadata": {},
   "source": [
    "#### Using back references"
   ]
  },
  {
   "cell_type": "markdown",
   "metadata": {},
   "source": [
    "Suppose we wanted to replace every address of the form username@domainname by postmaster@domainname? Here, we need to extract a part of the matched string and use it as part of the *result*. This can be done using groups. One can refer to the ith group using **\\\\g&lt;i&gt;** as illustrated below. Such references to matched substrings are called back references.\n"
   ]
  },
  {
   "cell_type": "code",
   "execution_count": null,
   "metadata": {},
   "outputs": [],
   "source": [
    "emailidre = r'([a-zA-Z0-9][a-zA-Z0-9.+]*)[@](([a-zA-Z0-9]+[.])*[a-zA-Z0-9]+)'\n",
    "with open(\"InputFile\",\"r\") as f:\n",
    "    s = f.read()\n",
    "    print(re.sub(emailidre,\"postmaster@\\g<2>\",s),end=\"\")"
   ]
  },
  {
   "cell_type": "markdown",
   "metadata": {},
   "source": [
    "If instead you wanted to send the mails to the username@noname.com you can do that as follows"
   ]
  },
  {
   "cell_type": "code",
   "execution_count": null,
   "metadata": {},
   "outputs": [],
   "source": [
    "emailidre = r'([a-zA-Z0-9][a-zA-Z0-9.+]*)[@](([a-zA-Z0-9]+[.])*[a-zA-Z0-9]+)'\n",
    "with open(\"InputFile\",\"r\") as f:\n",
    "    s = f.read()\n",
    "    print(re.sub(emailidre,\"\\g<1>@noname.com\",s),end=\"\")"
   ]
  },
  {
   "cell_type": "markdown",
   "metadata": {},
   "source": [
    "Back references can also be used in simple matching of strings (not just in substitution).\n",
    "\n",
    "One can refer to the ith group within the same regular expression as **\\\\i**"
   ]
  },
  {
   "cell_type": "markdown",
   "metadata": {},
   "source": [
    "The following identifies all those users whose userID is of the form firstname.lastname in the file UserData.csv which lists email id, first name and last names."
   ]
  },
  {
   "cell_type": "code",
   "execution_count": null,
   "metadata": {},
   "outputs": [],
   "source": [
    "parse = r'([^.,]+).([^.,]+),\\1,\\2'\n",
    "with open(\"UserData.csv\",\"r\") as f:\n",
    "    for l in f:\n",
    "        if re.search(parse,l):\n",
    "            print(l,end=\"\")"
   ]
  },
  {
   "cell_type": "markdown",
   "metadata": {},
   "source": [
    "Regular expressions are a very useful and powerful formalism for describing and processing patterns in words. They are not specific to Python and appear in some form or the other in alm"
   ]
  }
 ],
 "metadata": {
  "kernelspec": {
   "display_name": "Python 3",
   "language": "python",
   "name": "python3"
  },
  "language_info": {
   "codemirror_mode": {
    "name": "ipython",
    "version": 3
   },
   "file_extension": ".py",
   "mimetype": "text/x-python",
   "name": "python",
   "nbconvert_exporter": "python",
   "pygments_lexer": "ipython3",
   "version": "3.7.3"
  }
 },
 "nbformat": 4,
 "nbformat_minor": 2
}
