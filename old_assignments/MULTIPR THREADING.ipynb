{
 "cells": [
  {
   "cell_type": "code",
   "execution_count": 1,
   "metadata": {},
   "outputs": [
    {
     "name": "stdout",
     "output_type": "stream",
     "text": [
      "Finished in 0.4 second(s)\n"
     ]
    }
   ],
   "source": [
    "import concurrent.futures\n",
    "import time\n",
    "\n",
    "start = time.perf_counter()\n",
    "\n",
    "\n",
    "def do_something(seconds):\n",
    "    print(f'Sleeping {seconds} second(s)...')\n",
    "    time.sleep(seconds)\n",
    "    return f'Done Sleeping...{seconds}'\n",
    "\n",
    "\n",
    "with concurrent.futures.ProcessPoolExecutor() as executor:\n",
    "    secs = [5, 4, 3, 2, 1]\n",
    "    results = executor.map(do_something, secs)\n",
    "\n",
    "    # for result in results:\n",
    "    #     print(result)\n",
    "\n",
    "finish = time.perf_counter()\n",
    "\n",
    "print(f'Finished in {round(finish-start, 2)} second(s)')"
   ]
  },
  {
   "cell_type": "markdown",
   "metadata": {},
   "source": [
    "## running tasks synchronously vs. distributing these tasks across multiple CPUs\n",
    "\n",
    "task is either I/O bound or CPU bound\n",
    "\n",
    "I/O file system ops, network ops\n",
    "\n",
    "threading on CPU bound tasks - running only one process\n",
    "\n",
    "multiple processing - for both kinds of tasks\n",
    "\n",
    "run something in parallel with multiprocessing\n",
    "\n",
    "## POOLS allows us to add multiprocessing to our program with just a few lines of code"
   ]
  },
  {
   "cell_type": "code",
   "execution_count": 2,
   "metadata": {},
   "outputs": [
    {
     "name": "stdout",
     "output_type": "stream",
     "text": [
      "Finished in 0.32 second(s)\n"
     ]
    }
   ],
   "source": [
    "import multiprocessing\n",
    "# import concurrent.futures\n",
    "# import time\n",
    "\n",
    "start = time.perf_counter()\n",
    "\n",
    "def do_something(seconds):\n",
    "    print(f'Sleeping {seconds} second(s)...')\n",
    "    time.sleep(seconds)\n",
    "    return f'Done Sleeping...{seconds}'\n",
    "\n",
    "# create 2 different processes\n",
    "\n",
    "p1 = multiprocessing.Process(target=do_something)\n",
    "p2 = multiprocessing.Process(target=do_something)\n",
    "\n",
    "# in order for our functions to run, we have to use the start method\n",
    "\n",
    "p1.start()\n",
    "p2.start()\n",
    "\n",
    "# for the processes to run and finish before moving on to the rest of the script, use \n",
    "# join method\n",
    "\n",
    "p1.join()\n",
    "p2.join()\n",
    "\n",
    "finish = time.perf_counter()\n",
    "\n",
    "print(f'Finished in {round(finish-start, 2)} second(s)')\n",
    "\n"
   ]
  },
  {
   "cell_type": "code",
   "execution_count": 3,
   "metadata": {},
   "outputs": [
    {
     "name": "stderr",
     "output_type": "stream",
     "text": [
      "100%|██████████████████████████████████████████████████████████████████████████████████| 10/10 [00:00<00:00, 90.08it/s]\n"
     ]
    },
    {
     "name": "stdout",
     "output_type": "stream",
     "text": [
      "Finished in 0.47 second(s)\n"
     ]
    }
   ],
   "source": [
    "# now let's create and start these multiple processes in a loop\n",
    "from tqdm import tqdm\n",
    "start = time.perf_counter()\n",
    "\n",
    "def do_something(seconds):\n",
    "    print(f'Sleeping {seconds} second(s)...')\n",
    "    time.sleep(seconds)\n",
    "    return f'Done Sleeping...{seconds}'\n",
    "\n",
    "processes=[]\n",
    "\n",
    "for _ in tqdm(range(10)): # _ is just used as a throwaway variable since we're not using those integers\n",
    "    # anywhere in the loop\n",
    "    p = multiprocessing.Process(target=do_something, args=[1.5])\n",
    "    # now unlike with threads, in order to pass arguments to a multiprocessing process\n",
    "    # the arguments must be able to be serialized using PICKLE\n",
    "    # PICKLE - converting python objects to a format that can be deconstructed and \n",
    "    # reconstructed in another python script, so we expect our function to take 1.5 secs as\n",
    "    # an argument \n",
    "    p.start()\n",
    "    # we can't use .join() method in the loop because that'd make it synchronous\n",
    "    processes.append(p)\n",
    "    \n",
    "for process in processes:\n",
    "    process.join()\n",
    "    \n",
    "\n",
    "finish = time.perf_counter()\n",
    "\n",
    "print(f'Finished in {round(finish-start, 2)} second(s)')\n",
    "\n",
    "    "
   ]
  },
  {
   "cell_type": "markdown",
   "metadata": {},
   "source": [
    "## Faster Easier Way of Doing Multiprocessing\n",
    "\n",
    "## Process Pool Executor - allows us to switch to multiple threads / processes\n",
    "\n"
   ]
  },
  {
   "cell_type": "code",
   "execution_count": 4,
   "metadata": {},
   "outputs": [
    {
     "name": "stdout",
     "output_type": "stream",
     "text": [
      "Finished in 0.4 second(s)\n"
     ]
    }
   ],
   "source": [
    "import concurrent.futures\n",
    "\n",
    "# import concurrent.futures\n",
    "# import time\n",
    "\n",
    "start = time.perf_counter()\n",
    "\n",
    "def do_something(seconds):\n",
    "    print(f'Sleeping {seconds} second(s)...')\n",
    "    time.sleep(seconds)\n",
    "    return f'Done Sleeping...{seconds}'\n",
    "\n",
    "# use a context manager\n",
    "with concurrent.futures.ProcessPoolExecutor() as executor:\n",
    "    #f1 = executor.submit(do_something,1)\n",
    "    # above line submits the function to be executed and returns a future object\n",
    "    # f1 encapsulates the future execution of our function\n",
    "    #print(f1.result())\n",
    "    #secs = [5, 4, 3, 2, 1]\n",
    "    #results=[executor.submit(do_something,sec) for sec in secs]\n",
    "#     for f in concurrent.futures.as_completed(results):\n",
    "#         print(f.result())\n",
    "    secs = [5, 4, 3, 2, 1]\n",
    "    results = executor.map(do_something, secs)\n",
    "\n",
    "#     for result in results:\n",
    "#         print(result)\n",
    "\n",
    "finish = time.perf_counter()\n",
    "\n",
    "print(f'Finished in {round(finish-start, 2)} second(s)')\n",
    "\n"
   ]
  },
  {
   "cell_type": "markdown",
   "metadata": {},
   "source": [
    "## CLEAR-CUT DIFFERENCE BETWEEN THREADING AND MULTIPROCESSING IN PYTHON"
   ]
  },
  {
   "cell_type": "code",
   "execution_count": 5,
   "metadata": {},
   "outputs": [
    {
     "name": "stderr",
     "output_type": "stream",
     "text": [
      "100%|██████████████████████████████████████████████████████████████████████████████████| 8/8 [00:00<00:00, 1639.68it/s]\n",
      " 38%|███████████████████████████████▌                                                    | 3/8 [00:00<00:00, 23.51it/s]"
     ]
    },
    {
     "name": "stdout",
     "output_type": "stream",
     "text": [
      "registering thread 0\n",
      "registering thread 1\n",
      "registering thread 2\n",
      "registering thread 3\n",
      "registering thread 4\n",
      "registering thread 5\n",
      "registering thread 6\n",
      "registering thread 7\n"
     ]
    },
    {
     "name": "stderr",
     "output_type": "stream",
     "text": [
      "100%|████████████████████████████████████████████████████████████████████████████████████| 8/8 [00:02<00:00,  2.70it/s]\n",
      "100%|████████████████████████████████████████████████████████████████████████████████████| 8/8 [00:08<00:00,  1.10s/it]"
     ]
    },
    {
     "name": "stdout",
     "output_type": "stream",
     "text": [
      "Finished in 12.93 second(s)\n"
     ]
    },
    {
     "name": "stderr",
     "output_type": "stream",
     "text": [
      "\n"
     ]
    }
   ],
   "source": [
    "# Threading\n",
    "\n",
    "from threading import Thread\n",
    "import os\n",
    "import math\n",
    "from tqdm import tqdm\n",
    "\n",
    "start = time.perf_counter()\n",
    "\n",
    "def calc():\n",
    "\tfor i in range(0, 4000000):\n",
    "\t\tmath.sqrt(i)\n",
    "\n",
    "threads = []\n",
    "\n",
    "for i in tqdm(range(os.cpu_count())):\n",
    "\tprint('registering thread %d' % i)\n",
    "\tthreads.append(Thread(target=calc))\n",
    "\n",
    "for thread in tqdm(threads):\n",
    "\tthread.start()\n",
    "\n",
    "for thread in tqdm(threads):\n",
    "\tthread.join()\n",
    "    \n",
    "finish = time.perf_counter()\n",
    "\n",
    "print(f'Finished in {round(finish-start, 2)} second(s)')"
   ]
  },
  {
   "cell_type": "code",
   "execution_count": null,
   "metadata": {},
   "outputs": [],
   "source": []
  },
  {
   "cell_type": "code",
   "execution_count": 6,
   "metadata": {},
   "outputs": [
    {
     "name": "stderr",
     "output_type": "stream",
     "text": [
      "100%|██████████████████████████████████████████████████████████████████████████████████| 8/8 [00:00<00:00, 1603.79it/s]\n",
      "100%|████████████████████████████████████████████████████████████████████████████████████| 8/8 [00:00<00:00, 94.26it/s]\n",
      "  0%|                                                                                            | 0/8 [00:00<?, ?it/s]"
     ]
    },
    {
     "name": "stdout",
     "output_type": "stream",
     "text": [
      "registering process 0\n",
      "registering process 1\n",
      "registering process 2\n",
      "registering process 3\n",
      "registering process 4\n",
      "registering process 5\n",
      "registering process 6\n",
      "registering process 7\n"
     ]
    },
    {
     "name": "stderr",
     "output_type": "stream",
     "text": [
      "100%|████████████████████████████████████████████████████████████████████████████████████| 8/8 [00:00<00:00, 21.99it/s]"
     ]
    },
    {
     "name": "stdout",
     "output_type": "stream",
     "text": [
      "Finished in 0.49 second(s)\n"
     ]
    },
    {
     "name": "stderr",
     "output_type": "stream",
     "text": [
      "\n"
     ]
    }
   ],
   "source": [
    "# Multiprocessing\n",
    "\n",
    "from multiprocessing import Process\n",
    "# import os\n",
    "# import math\n",
    "\n",
    "start = time.perf_counter()\n",
    "\n",
    "def calc():\n",
    "\tfor i in range(0, 70000000):\n",
    "\t\tmath.sqrt(i)\n",
    "\n",
    "processes = []\n",
    "\n",
    "for i in tqdm(range(os.cpu_count())):\n",
    "\tprint('registering process %d' % i)\n",
    "\tprocesses.append(Process(target=calc))\n",
    "\n",
    "for process in tqdm(processes):\n",
    "\tprocess.start()\n",
    "\n",
    "for process in tqdm(processes):\n",
    "\tprocess.join()\n",
    "    \n",
    "finish = time.perf_counter()\n",
    "\n",
    "print(f'Finished in {round(finish-start, 2)} second(s)')"
   ]
  },
  {
   "cell_type": "code",
   "execution_count": null,
   "metadata": {},
   "outputs": [],
   "source": []
  },
  {
   "cell_type": "code",
   "execution_count": null,
   "metadata": {},
   "outputs": [],
   "source": []
  },
  {
   "cell_type": "code",
   "execution_count": null,
   "metadata": {},
   "outputs": [],
   "source": []
  }
 ],
 "metadata": {
  "kernelspec": {
   "display_name": "Python 3",
   "language": "python",
   "name": "python3"
  },
  "language_info": {
   "codemirror_mode": {
    "name": "ipython",
    "version": 3
   },
   "file_extension": ".py",
   "mimetype": "text/x-python",
   "name": "python",
   "nbconvert_exporter": "python",
   "pygments_lexer": "ipython3",
   "version": "3.7.3"
  }
 },
 "nbformat": 4,
 "nbformat_minor": 4
}
