{
 "cells": [
  {
   "cell_type": "markdown",
   "metadata": {},
   "source": [
    "## Processing Strings"
   ]
  },
  {
   "cell_type": "markdown",
   "metadata": {},
   "source": [
    "Recall that the python **string** method **split** breaks up a string into words (separated by *white space*)"
   ]
  },
  {
   "cell_type": "code",
   "execution_count": 1,
   "metadata": {},
   "outputs": [
    {
     "data": {
      "text/plain": [
       "['abcd', 'efgh']"
      ]
     },
     "execution_count": 1,
     "metadata": {},
     "output_type": "execute_result"
    }
   ],
   "source": [
    "\"abcd efgh\".split()"
   ]
  },
  {
   "cell_type": "code",
   "execution_count": 2,
   "metadata": {},
   "outputs": [
    {
     "data": {
      "text/plain": [
       "['ijkl,', 'mnop']"
      ]
     },
     "execution_count": 2,
     "metadata": {},
     "output_type": "execute_result"
    }
   ],
   "source": [
    "\"ijkl,   mnop\".split()"
   ]
  },
  {
   "cell_type": "markdown",
   "metadata": {},
   "source": [
    "Let's try to write such a function ourselves now."
   ]
  },
  {
   "cell_type": "code",
   "execution_count": 3,
   "metadata": {},
   "outputs": [],
   "source": [
    "''' Space holder for Code '''\n",
    "\n",
    "def ws(c):\n",
    "    if c == ' ' or c == '\\t' or c=='\\n':\n",
    "        return True\n",
    "    return False\n",
    "\n",
    "def mysplit(s):\n",
    "    wordlist = []\n",
    "    k = 0\n",
    "    currword = ''\n",
    "    for i in s:\n",
    "        if ws(i):\n",
    "            if currword != '':\n",
    "                wordlist.append(currword)\n",
    "                currword = ''\n",
    "            continue\n",
    "        else:\n",
    "            currword = currword + i\n",
    "    return(wordlist)\n"
   ]
  },
  {
   "cell_type": "code",
   "execution_count": 4,
   "metadata": {},
   "outputs": [
    {
     "data": {
      "text/plain": [
       "['abcd', 'efgh']"
      ]
     },
     "execution_count": 4,
     "metadata": {},
     "output_type": "execute_result"
    }
   ],
   "source": [
    "mysplit(\"abcd      efgh \")"
   ]
  },
  {
   "cell_type": "markdown",
   "metadata": {},
   "source": [
    "Sir's code was confusing so I created my own code"
   ]
  },
  {
   "cell_type": "code",
   "execution_count": null,
   "metadata": {},
   "outputs": [],
   "source": [
    "def ownsplit(s):\n",
    "    finallist=[]\n",
    "    temp=\"\"\n",
    "    for each in s:\n",
    "        if each!=\" \" and each!= \"\\t\" and each!= \"\\n\":\n",
    "            temp+=each\n",
    "        else:\n",
    "            finallist.append(temp)\n",
    "            temp=\"\"\n",
    "    finallist.append(temp)\n",
    "    newfinal=[]\n",
    "    for each2 in finallist:\n",
    "        if(len(each2)!=0):\n",
    "            newfinal.append(each2)\n",
    "    return newfinal"
   ]
  },
  {
   "cell_type": "code",
   "execution_count": null,
   "metadata": {},
   "outputs": [],
   "source": [
    "y=ownsplit(\"abcd      efgh\")\n",
    "y"
   ]
  },
  {
   "cell_type": "markdown",
   "metadata": {},
   "source": [
    "The right approach to solve this problem is to think of what is called a *state machine* and implement that.\n",
    "Think of the program as a machine which is in one of two states: **inside** intended to mean that the scanner is currently in the middle of reading a word and **Outside** intended to mean it is currently\n",
    "not in the middle of reading a word."
   ]
  },
  {
   "cell_type": "markdown",
   "metadata": {},
   "source": [
    "The machine, reads a letter and based on it current state and this letter, updates it state correctly (correct w.r.t. the intended meaning) and also computes some outputs once in a while. In our example: there are 4 basic cases:\n",
    "\n",
    "  1) In state **Inside** and\n",
    "  \n",
    "      (i) the next letter is a whitespace.\n",
    "      Action: Change state to **Outside** and output the current word (so you have to track that).\n",
    "      \n",
    "      (ii) the next letter is a non-whitespace.\n",
    "      Action: Stay in the same state.\n",
    "      \n",
    "  2) In state **Outside** and \n",
    "  \n",
    "     (i) the next letter is a whitespace.\n",
    "     Action: Stay in the same state\n",
    "     \n",
    "     (ii) the next letter is a non-whitespace.\n",
    "     Action: Change state to **Inside**. Also start recording the current word.\n",
    "    \n"
   ]
  },
  {
   "cell_type": "code",
   "execution_count": 5,
   "metadata": {},
   "outputs": [
    {
     "name": "stdout",
     "output_type": "stream",
     "text": [
      "['This', 'is', 'a', 'long', 'and', 'boring', 'sentence.', 'This', 'is', 'another,', 'and', 'so', 'on.']\n"
     ]
    }
   ],
   "source": [
    "st = \" This is a long and boring sentence. \\nThis is another, and   so on.  k\"\n",
    "Outside = 0\n",
    "Inside = 1\n",
    "\n",
    "def ws(c):\n",
    "    if c in [' ','\\t','\\n']:\n",
    "        return True\n",
    "    return False\n",
    "  \n",
    "def words(s):\n",
    "    State = 0 # 0 means outside, 1 means inside \n",
    "    ans = []\n",
    "    curr = \"\"\n",
    "    for i in s:\n",
    "        if State == Inside:\n",
    "            if ws(i):\n",
    "                State = Outside\n",
    "                ans.append(curr)\n",
    "            else:\n",
    "                curr = curr+i\n",
    "        elif State == Outside:\n",
    "            if not ws(i):\n",
    "                State = Inside\n",
    "                curr = i \n",
    "    return(ans)\n",
    "\n",
    "print(words(st))\n"
   ]
  },
  {
   "cell_type": "markdown",
   "metadata": {},
   "source": [
    "Our state diagram should also output the current word, if any, when the input ends (i.e. the last word)"
   ]
  },
  {
   "cell_type": "code",
   "execution_count": 6,
   "metadata": {},
   "outputs": [
    {
     "name": "stdout",
     "output_type": "stream",
     "text": [
      "['This', 'is', 'a', 'long', 'and', 'boring', 'sentence.', 'This', 'is', 'another,', 'and', 'so', 'on.']\n",
      "['This', 'is', 'a', 'test', 'jk']\n"
     ]
    }
   ],
   "source": [
    "st = \" This is a long and boring sentence. \\nThis is another, and   so on.\"\n",
    "Outside = 0\n",
    "Inside = 1\n",
    "\n",
    "def ws(c):\n",
    "    if c in [' ','\\t','\\n']:\n",
    "        return True\n",
    "    return False\n",
    "\n",
    "def words(s):\n",
    "    State = 0 # 0 means outside, 1 means inside \n",
    "    ans = []\n",
    "    curr = \"\"\n",
    "    for i in s:\n",
    "        if State == Inside:\n",
    "            if ws(i):\n",
    "                State = Outside\n",
    "                ans.append(curr)\n",
    "            else:\n",
    "                curr = curr+i\n",
    "        elif State == Outside:\n",
    "            if not ws(i):\n",
    "                State = Inside\n",
    "                curr = i\n",
    "    if State == Inside:\n",
    "        ans.append(curr)\n",
    "    return(ans)\n",
    "\n",
    "print(words(st))\n",
    "print(words(\"This is a test jk\"))\n"
   ]
  },
  {
   "cell_type": "markdown",
   "metadata": {},
   "source": [
    "Let's make it a bit more interesting by searching for all the **integers** in a string."
   ]
  },
  {
   "cell_type": "code",
   "execution_count": null,
   "metadata": {
    "scrolled": true
   },
   "outputs": [],
   "source": [
    "'''\n",
    "This is a long sentence, of more than 20 letters and 8 words. I may have\n",
    "real numbers such as 3.14 in this, but it should not print them out. But\n",
    "integers can be the last word in a sentence such as 30. The word a39b contains\n",
    "the integer 39..45 and .382. That was just to confuse the issue. Does it work with .45?\n",
    "'''\n"
   ]
  },
  {
   "cell_type": "markdown",
   "metadata": {},
   "source": [
    "Here is a possible state machine for this:\n",
    "\n",
    "There are 3 states:\n",
    "\n",
    " <li>  0 --- Outside and unwilling to start a new integer\n",
    "  \n",
    " <li>  1 --- Outside and willing to start a new integer\n",
    "  \n",
    " <li>  2 --- currently inside a potential integer.\n",
    "\n",
    "\n",
    "The inputs are classified as \n",
    "\n",
    "  <li> digits \n",
    "\n",
    "  <li> '.' \n",
    "  \n",
    "  <li> all other characters"
   ]
  },
  {
   "cell_type": "markdown",
   "metadata": {},
   "source": [
    "And the transitions of this machine are:\n",
    "    \n",
    "  <li> State 0: (Outside and Unwilling)\n",
    "\n",
    "       '.' or digit  ---> stay in State 0\n",
    "       anything else ---> change to State 1\n",
    "\n",
    "  <li> State 1: (Outside and Willing)\n",
    "    \n",
    "       '.'           ---> change to State 0\n",
    "       digit         ---> change to State 2 (also record this digit)\n",
    "       anything else ---> stay in State 1\n",
    "\n",
    "  <li> State 2: (Inside)\n",
    "    \n",
    "       digit         ---> stay in State 2 (and record this digit)\n",
    "       '.'           ---> Peep at the next character (look at it but don't advance the reading point).\n",
    "                          If that character is:\n",
    "                             digit     --->  Discard current integer and go to state 0 (its real number)\n",
    "                             otherise  --->  Output this integer and move to State 1.\n",
    "       anything else ---> Output this integer and move to State 1\n",
    "       \n",
    "       "
   ]
  },
  {
   "cell_type": "markdown",
   "metadata": {},
   "source": [
    "Thus, handling this more involved example uses another idea, peeping ahead at the input. The technical term for this is **look-ahead**"
   ]
  },
  {
   "cell_type": "markdown",
   "metadata": {},
   "source": [
    "For the record, here is a python program implementing this state machine. Clearly translating state machines to python programs is routine."
   ]
  },
  {
   "cell_type": "code",
   "execution_count": null,
   "metadata": {},
   "outputs": [],
   "source": [
    "def findIntegers(s):\n",
    "        '''\n",
    "        0  ---> outside and not ready to enter\n",
    "        1  ---> outside but ready to enter\n",
    "        2  ---> inside\n",
    "        '''\n",
    "        state = 1\n",
    "        ans = []\n",
    "        i = 0\n",
    "        nextint = []\n",
    "        e = len(s)\n",
    "        while (i < e):\n",
    "                if state == 0 :\n",
    "                        if  (not s[i].isdigit()) and (not (s[i] == \".\")):\n",
    "                                state = 1\n",
    "                elif (state == 1):\n",
    "                        if s[i].isdigit():\n",
    "                                state = 2\n",
    "                                nextint = [s[i]]\n",
    "                        elif s[i] == \".\":\n",
    "                                state = 0\n",
    "                elif (state == 2):\n",
    "                        if s[i].isdigit():\n",
    "                                nextint.append(s[i])\n",
    "                        elif (s[i] == \".\") and (i < e-1) and (s[i+1].isdigit()):\n",
    "                                state = 0\n",
    "                        else:\n",
    "                                ans.append(\"\".join(nextint))\n",
    "                                state = 1\n",
    "                i = i+1\n",
    "        return(ans)\n",
    "\n",
    "ls = '''\n",
    "This is a long sentence, of more than 20 letters and 8 words. I may have\n",
    "real numbers such as 3.14 in this, but it should not print them out. But\n",
    "integers can be the last word in a sentence such as 30. The word a309 contains\n",
    "the integer 39..45 and .38. 2. That was just to confuse the issue. Does it work with .45?\n",
    "'''\n",
    "\n",
    "print(findIntegers(ls))"
   ]
  },
  {
   "cell_type": "markdown",
   "metadata": {},
   "source": [
    "In summary pattern matching and searching in words is best solved via appropriate state machines. These machines sometimes use **look-aheads** to make their choices. Translating these state machines to programs is easy (can be done automatically). \n",
    "\n",
    "What about developing the state machines themselves? It turns out that for a very generous language of patterns, the state machine can be generated automatically. This comes from the study of \"finite state automata\" (essentially state machines) and \"regular expressions\" and is beyond the scope of this course. But we shall now see how to use the Python library that does this translation."
   ]
  },
  {
   "cell_type": "markdown",
   "metadata": {},
   "source": [
    "### State machine based programming"
   ]
  },
  {
   "cell_type": "markdown",
   "metadata": {},
   "source": [
    "We saw that pattern matching in strings is one possible application of state based programming. But there are others.\n",
    "For instance, consider the program that controls a set of lifts. The states record information  regarding the  location of the lift, the status of the doors, the buttons that have been pressed in each floor etc. The transitions are to do with pressing of buttons, the reaching of a floor .. \n",
    "\n"
   ]
  },
  {
   "cell_type": "markdown",
   "metadata": {},
   "source": [
    "Another  example is the windowing system on all machines.  The state records the location of the mouse, the set of windows, the menu that is currently open, whatever. The events correspond to clicking of a mouse or the exit or the entry of the mouse to a window or its header or ...\n"
   ]
  },
  {
   "cell_type": "markdown",
   "metadata": {},
   "source": [
    "These are examples of **event based programming** which is just another name for state machines."
   ]
  },
  {
   "cell_type": "code",
   "execution_count": null,
   "metadata": {},
   "outputs": [],
   "source": []
  }
 ],
 "metadata": {
  "kernelspec": {
   "display_name": "Python 3",
   "language": "python",
   "name": "python3"
  },
  "language_info": {
   "codemirror_mode": {
    "name": "ipython",
    "version": 3
   },
   "file_extension": ".py",
   "mimetype": "text/x-python",
   "name": "python",
   "nbconvert_exporter": "python",
   "pygments_lexer": "ipython3",
   "version": "3.7.3"
  }
 },
 "nbformat": 4,
 "nbformat_minor": 2
}
