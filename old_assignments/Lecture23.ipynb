{
 "cells": [
  {
   "cell_type": "code",
   "execution_count": 3,
   "metadata": {},
   "outputs": [],
   "source": [
    "import numpy as np\n",
    "class DGraph:\n",
    "    \n",
    "    def __init__(self,n,E=[]):\n",
    "        self.N = n\n",
    "        self.AdjMat = np.zeros([self.N,self.N],dtype=np.int32)\n",
    "        for e in E:\n",
    "            x,y = e\n",
    "            self.AdjMat[x,y]=1            \n",
    "            \n",
    "    def __str__(self):\n",
    "        return str(self.AdjMat)\n",
    "    \n",
    "    def __iter__(self):\n",
    "        return self.Vertices(self.N)\n",
    "    \n",
    "    def neighbours(self,v):\n",
    "        return(self.Neighbours(self.AdjMat[v,],self.N))\n",
    "    \n",
    "    class Vertices:\n",
    "        \n",
    "        def __init__(self,nu):\n",
    "            self.Nu = nu\n",
    "            self.index = 0\n",
    "        \n",
    "        def __iter__(self):\n",
    "            return(self)\n",
    "        \n",
    "        def __next__(self):\n",
    "            if self.index >= self.Nu:\n",
    "                raise StopIteration\n",
    "            rval = self.index\n",
    "            self.index = self.index+1\n",
    "            return rval\n",
    "    \n",
    "    class Neighbours:\n",
    "        \n",
    "        def __init__(self,row,nu):\n",
    "            self.pos = 0\n",
    "            self.row = row\n",
    "            self.Nu = nu\n",
    "        \n",
    "        def __iter__(self):\n",
    "            return(self)\n",
    "        \n",
    "        def __next__(self):\n",
    "            if self.pos >= self.Nu:\n",
    "                raise StopIteration\n",
    "            while self.row[self.pos] == 0:\n",
    "                self.pos = self.pos+1\n",
    "                if self.pos >= self.Nu:\n",
    "                    raise StopIteration\n",
    "            rval = self.pos\n",
    "            self.pos = self.pos+1\n",
    "            return(rval)\n",
    "            \n",
    "            \n",
    "            "
   ]
  },
  {
   "cell_type": "markdown",
   "metadata": {},
   "source": [
    "There was an error in the Depth First Search Algorithm written in the last class."
   ]
  },
  {
   "cell_type": "code",
   "execution_count": null,
   "metadata": {},
   "outputs": [],
   "source": [
    "def depthFS(G,v): # Computes Reachability correctly but is not Depth First Search.\n",
    "    UnExplored = [v]  # A list to maintain a stack.\n",
    "    Explored = set()\n",
    "    while UnExplored:\n",
    "        u = UnExplored.pop()        # pop from stack\n",
    "        for v in G.neighbours(u):\n",
    "            if v not in Explored and v not in UnExplored:\n",
    "                UnExplored.append(v) # push onto stack\n",
    "        Explored.add(u)\n",
    "    return(Explored)\n"
   ]
  },
  {
   "cell_type": "markdown",
   "metadata": {},
   "source": [
    "This one will visit a vertex that is already in the stack. The corrected version is below."
   ]
  },
  {
   "cell_type": "code",
   "execution_count": 1,
   "metadata": {},
   "outputs": [],
   "source": [
    "def depthFS(G,v):  \n",
    "    UnExplored = [v]  # A list to maintain a stack.\n",
    "    Explored = set()\n",
    "    count = 0\n",
    "    DFSNo = {}\n",
    "    while UnExplored:\n",
    "        u = UnExplored.pop()  # pop from stack\n",
    "        if u in Explored:\n",
    "            continue\n",
    "        Explored.add(u)\n",
    "        DFSNo[u] = count\n",
    "        count = count + 1\n",
    "        for w in G.neighbours(u):\n",
    "            if w not in Explored:\n",
    "                UnExplored.append(w) # push onto stack\n",
    "    return(DFSNo)\n"
   ]
  },
  {
   "cell_type": "markdown",
   "metadata": {},
   "source": [
    "You can safely omit Explored above and instead use membership in DFSNo instead.\n"
   ]
  },
  {
   "cell_type": "code",
   "execution_count": 4,
   "metadata": {},
   "outputs": [],
   "source": [
    "G = DGraph(5,[(0,1),(0,2),(2,3),(2,4),(3,1),(4,1)])"
   ]
  },
  {
   "cell_type": "code",
   "execution_count": 5,
   "metadata": {},
   "outputs": [
    {
     "data": {
      "text/plain": [
       "{0: 0, 2: 1, 4: 2, 1: 3, 3: 4}"
      ]
     },
     "execution_count": 5,
     "metadata": {},
     "output_type": "execute_result"
    }
   ],
   "source": [
    "depthFS(G,0)"
   ]
  },
  {
   "cell_type": "code",
   "execution_count": 6,
   "metadata": {},
   "outputs": [],
   "source": [
    "def depthFS(G,v): # Almost the same as above, recursive and the neighbours are processed in reverse order.\n",
    "    \n",
    "    def dfs(u):\n",
    "        DFSNo[u] = count\n",
    "        count = count + 1\n",
    "        for w in G.neighbours(u):\n",
    "            if w not in DFSNo:\n",
    "                dfs(w)\n",
    "                \n",
    "    DFSNo = {}\n",
    "    count = 0\n",
    "    dfs(v)\n",
    "    return(DFSNo)\n",
    "    "
   ]
  },
  {
   "cell_type": "code",
   "execution_count": 7,
   "metadata": {},
   "outputs": [
    {
     "ename": "UnboundLocalError",
     "evalue": "local variable 'count' referenced before assignment",
     "output_type": "error",
     "traceback": [
      "\u001b[1;31m---------------------------------------------------------------------------\u001b[0m",
      "\u001b[1;31mUnboundLocalError\u001b[0m                         Traceback (most recent call last)",
      "\u001b[1;32m<ipython-input-7-5c7fc378323c>\u001b[0m in \u001b[0;36m<module>\u001b[1;34m\u001b[0m\n\u001b[1;32m----> 1\u001b[1;33m \u001b[0mdepthFS\u001b[0m\u001b[1;33m(\u001b[0m\u001b[0mG\u001b[0m\u001b[1;33m,\u001b[0m\u001b[1;36m1\u001b[0m\u001b[1;33m)\u001b[0m\u001b[1;33m\u001b[0m\u001b[1;33m\u001b[0m\u001b[0m\n\u001b[0m",
      "\u001b[1;32m<ipython-input-6-63465b681a6c>\u001b[0m in \u001b[0;36mdepthFS\u001b[1;34m(G, v)\u001b[0m\n\u001b[0;32m     10\u001b[0m     \u001b[0mDFSNo\u001b[0m \u001b[1;33m=\u001b[0m \u001b[1;33m{\u001b[0m\u001b[1;33m}\u001b[0m\u001b[1;33m\u001b[0m\u001b[1;33m\u001b[0m\u001b[0m\n\u001b[0;32m     11\u001b[0m     \u001b[0mcount\u001b[0m \u001b[1;33m=\u001b[0m \u001b[1;36m0\u001b[0m\u001b[1;33m\u001b[0m\u001b[1;33m\u001b[0m\u001b[0m\n\u001b[1;32m---> 12\u001b[1;33m     \u001b[0mdfs\u001b[0m\u001b[1;33m(\u001b[0m\u001b[0mv\u001b[0m\u001b[1;33m)\u001b[0m\u001b[1;33m\u001b[0m\u001b[1;33m\u001b[0m\u001b[0m\n\u001b[0m\u001b[0;32m     13\u001b[0m     \u001b[1;32mreturn\u001b[0m\u001b[1;33m(\u001b[0m\u001b[0mDFSNo\u001b[0m\u001b[1;33m)\u001b[0m\u001b[1;33m\u001b[0m\u001b[1;33m\u001b[0m\u001b[0m\n\u001b[0;32m     14\u001b[0m \u001b[1;33m\u001b[0m\u001b[0m\n",
      "\u001b[1;32m<ipython-input-6-63465b681a6c>\u001b[0m in \u001b[0;36mdfs\u001b[1;34m(u)\u001b[0m\n\u001b[0;32m      2\u001b[0m \u001b[1;33m\u001b[0m\u001b[0m\n\u001b[0;32m      3\u001b[0m     \u001b[1;32mdef\u001b[0m \u001b[0mdfs\u001b[0m\u001b[1;33m(\u001b[0m\u001b[0mu\u001b[0m\u001b[1;33m)\u001b[0m\u001b[1;33m:\u001b[0m\u001b[1;33m\u001b[0m\u001b[1;33m\u001b[0m\u001b[0m\n\u001b[1;32m----> 4\u001b[1;33m         \u001b[0mDFSNo\u001b[0m\u001b[1;33m[\u001b[0m\u001b[0mu\u001b[0m\u001b[1;33m]\u001b[0m \u001b[1;33m=\u001b[0m \u001b[0mcount\u001b[0m\u001b[1;33m\u001b[0m\u001b[1;33m\u001b[0m\u001b[0m\n\u001b[0m\u001b[0;32m      5\u001b[0m         \u001b[0mcount\u001b[0m \u001b[1;33m=\u001b[0m \u001b[0mcount\u001b[0m \u001b[1;33m+\u001b[0m \u001b[1;36m1\u001b[0m\u001b[1;33m\u001b[0m\u001b[1;33m\u001b[0m\u001b[0m\n\u001b[0;32m      6\u001b[0m         \u001b[1;32mfor\u001b[0m \u001b[0mw\u001b[0m \u001b[1;32min\u001b[0m \u001b[0mG\u001b[0m\u001b[1;33m.\u001b[0m\u001b[0mneighbours\u001b[0m\u001b[1;33m(\u001b[0m\u001b[0mu\u001b[0m\u001b[1;33m)\u001b[0m\u001b[1;33m:\u001b[0m\u001b[1;33m\u001b[0m\u001b[1;33m\u001b[0m\u001b[0m\n",
      "\u001b[1;31mUnboundLocalError\u001b[0m: local variable 'count' referenced before assignment"
     ]
    }
   ],
   "source": [
    "depthFS(G,1)"
   ]
  }
 ],
 "metadata": {
  "kernelspec": {
   "display_name": "Python 3",
   "language": "python",
   "name": "python3"
  },
  "language_info": {
   "codemirror_mode": {
    "name": "ipython",
    "version": 3
   },
   "file_extension": ".py",
   "mimetype": "text/x-python",
   "name": "python",
   "nbconvert_exporter": "python",
   "pygments_lexer": "ipython3",
   "version": "3.7.3"
  }
 },
 "nbformat": 4,
 "nbformat_minor": 2
}
