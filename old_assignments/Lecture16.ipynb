{
 "cells": [
  {
   "cell_type": "code",
   "execution_count": null,
   "metadata": {},
   "outputs": [],
   "source": [
    "import numpy as np\n",
    "\n",
    "class MyHash:   # A simple implementation of binary multiplicative hashing\n",
    "    \n",
    "    def __init__(self,l=10):\n",
    "        self.width = l \n",
    "        self.table = []\n",
    "        for i in range(2**self.width):\n",
    "            self.table.append([])\n",
    "        self.a = np.int32(np.random.randint(0,2**31-1))\n",
    "        while (self.a%2 == 0):\n",
    "            self.a = np.int32(np.random.randint(0,2**31-1))\n",
    "        self.complexity = 0       # Counts the total length of all buckets encountered \n",
    "            \n",
    "    def get_hash(self,v):\n",
    "        x = np.int64(np.int32(v)*self.a)\n",
    "        x = np.int64(x%(2**32))\n",
    "        x = np.int64(x >> (32 - self.width))\n",
    "        return(x)\n",
    "            \n",
    "    def insert(self,v):\n",
    "        h = self.get_hash(v)\n",
    "        self.complexity = self.complexity + len(self.table[h])\n",
    "        if v in self.table[h]:\n",
    "            return\n",
    "        else:\n",
    "            self.table[h].append(v)\n",
    "            \n",
    "    def search(self,v):\n",
    "        h = self.get_hash(v)\n",
    "        self.complexity = self.complexity + len(self.table[h])\n",
    "        if v in self.table[h]:\n",
    "            return True\n",
    "        else:\n",
    "            return False\n",
    "        \n",
    "    def delete(self,v):\n",
    "        h = self.get_hash(v)\n",
    "        self.complexity = self.complexity + len(self.table[h])\n",
    "        if v in self.table[h]:\n",
    "            self.table[h].pop(self.table[h].index(v))\n",
    "        \n",
    "        \n",
    "        \n",
    "            "
   ]
  },
  {
   "cell_type": "code",
   "execution_count": null,
   "metadata": {},
   "outputs": [],
   "source": [
    "TableSize = 14\n",
    "RangeOfValues = 2**16\n",
    "NoOfOperations = 10**4    # the number of values inserted depends on this. we do this many random inserts.\n",
    "\n",
    "x = MyHash(TableSize)\n",
    "count = 0\n",
    "for i in range(NoOfOperations):\n",
    "    x.insert(np.random.randint(0,RangeOfValues))\n",
    "for i in range(NoOfOperations):\n",
    "     if  x.search(np.random.randint(0,RangeOfValues)):\n",
    "            count = count+1\n",
    "for i in range(NoOfOperations):\n",
    "    x.delete(np.random.randint(0,RangeOfValues))\n",
    "print(\"The number of successful searches =\", count)\n",
    "print(\"Total number of steps\", x.complexity)\n",
    "print(\"Steps Per Operation: \", x.complexity/(3*NoOfOperations))\n",
    "\n",
    "    "
   ]
  },
  {
   "cell_type": "code",
   "execution_count": null,
   "metadata": {},
   "outputs": [],
   "source": []
  }
 ],
 "metadata": {
  "kernelspec": {
   "display_name": "Python 3",
   "language": "python",
   "name": "python3"
  },
  "language_info": {
   "codemirror_mode": {
    "name": "ipython",
    "version": 3
   },
   "file_extension": ".py",
   "mimetype": "text/x-python",
   "name": "python",
   "nbconvert_exporter": "python",
   "pygments_lexer": "ipython3",
   "version": "3.7.3"
  }
 },
 "nbformat": 4,
 "nbformat_minor": 2
}
