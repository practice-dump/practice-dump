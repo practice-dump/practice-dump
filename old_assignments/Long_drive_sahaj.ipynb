{
 "cells": [
  {
   "cell_type": "markdown",
   "metadata": {},
   "source": [
    "Long Drive Problem Set"
   ]
  },
  {
   "cell_type": "code",
   "execution_count": null,
   "metadata": {},
   "outputs": [],
   "source": [
    "def optimize(dist,price):\n",
    "    cheapest_petrol=min(price)           #this fill fetch us minimum petrol price\n",
    "    cost=0                               \n",
    "    remaining_dist=2*(sum(dist))         \n",
    "    next_cheap_dist=0\n",
    "    j=0\n",
    "    i=0\n",
    "    count=0\n",
    "    while(price[i]!=cheapest_petrol):   #searching if we have reached cheapest petrol station if not then\n",
    "        j=i\n",
    "        while(price[i+count]>=price[j]): #cost of travelling till we find next cheaper petrol pump\n",
    "            count+=1\n",
    "        temp_dist_array=dist[j:j+count]\n",
    "        next_cheap_dist=sum(temp_dist_array)\n",
    "        cost+=price[j]*next_cheap_dist\n",
    "        remaining_dist-=next_cheap_dist\n",
    "        i+=count\n",
    "        count=0\n",
    "    cost+=remaining_dist*cheapest_petrol\n",
    "\n",
    "    print(cost)"
   ]
  },
  {
   "cell_type": "code",
   "execution_count": null,
   "metadata": {},
   "outputs": [],
   "source": [
    "print(\"Enter the number of cities\")\n",
    "n=int(input())"
   ]
  },
  {
   "cell_type": "code",
   "execution_count": null,
   "metadata": {},
   "outputs": [],
   "source": [
    "print(\"Enter the cost of petrol at esch city\")\n",
    "price=[]\n",
    "for alpha in range(0,n):\n",
    "    price.append(int(input()))"
   ]
  },
  {
   "cell_type": "code",
   "execution_count": null,
   "metadata": {},
   "outputs": [],
   "source": [
    "print(\"Enter the distance between two neighbouring cities in order\")\n",
    "dist=[]\n",
    "for beta in range(0,n-1):\n",
    "    dist.append(int(input()))"
   ]
  },
  {
   "cell_type": "code",
   "execution_count": null,
   "metadata": {},
   "outputs": [],
   "source": [
    "optimize(dist,price)"
   ]
  }
 ],
 "metadata": {
  "kernelspec": {
   "display_name": "Python 3",
   "language": "python",
   "name": "python3"
  },
  "language_info": {
   "codemirror_mode": {
    "name": "ipython",
    "version": 3
   },
   "file_extension": ".py",
   "mimetype": "text/x-python",
   "name": "python",
   "nbconvert_exporter": "python",
   "pygments_lexer": "ipython3",
   "version": "3.7.3"
  }
 },
 "nbformat": 4,
 "nbformat_minor": 2
}
