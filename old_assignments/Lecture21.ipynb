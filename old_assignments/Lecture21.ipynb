{
 "cells": [
  {
   "cell_type": "code",
   "execution_count": null,
   "metadata": {},
   "outputs": [],
   "source": [
    "for i in [1,2,3]:\n",
    "    print(i)"
   ]
  },
  {
   "cell_type": "markdown",
   "metadata": {},
   "source": [
    "## Iterators and Generators in Python "
   ]
  },
  {
   "cell_type": "markdown",
   "metadata": {},
   "source": [
    "Recall that **for** loops in python iterate over objects of various kinds: lists, dictionaries, sets, map objects, ... \n",
    "\n",
    "One way to make your favourite class also have this feature is to make it satisfy the **iterator** protocol. That is, \n",
    "it provides a function **\\_\\_iter\\_\\_** that returns a iterator class. \n",
    "\n",
    "An **iterator class** must implement an a method called **\\_\\_next\\_\\_** (as well as **\\_\\_iter\\_\\_** again!). The idea is that the repeatedly calling **\\_\\_next\\_\\_** will carry out the iteration. \n",
    "\n",
    "(The need for **\\_\\_iter\\_\\_** is perverse, it is expected to return the self and is needed to ensure asking for an iterator from an iterator returns the same iterator. Ugh)\n"
   ]
  },
  {
   "cell_type": "code",
   "execution_count": null,
   "metadata": {},
   "outputs": [],
   "source": [
    "class IWantToIterate:\n",
    "    \n",
    "    def __iter__(self):\n",
    "        return(self)\n",
    "    \n",
    "    def __next__(self):\n",
    "        return(1)"
   ]
  },
  {
   "cell_type": "code",
   "execution_count": null,
   "metadata": {},
   "outputs": [],
   "source": [
    "x = IWantToIterate()\n",
    "print(next(x))\n",
    "print(next(x))"
   ]
  },
  {
   "cell_type": "code",
   "execution_count": null,
   "metadata": {},
   "outputs": [],
   "source": [
    "for e in x:\n",
    "    print(e)"
   ]
  },
  {
   "cell_type": "markdown",
   "metadata": {},
   "source": [
    "So how does an **iterator** tell the for loop to stop? i.e. indicate that it has reached the end of iteration.\n",
    "This is done by throwing a **StopIteration** exception."
   ]
  },
  {
   "cell_type": "code",
   "execution_count": null,
   "metadata": {},
   "outputs": [],
   "source": [
    "class AStoppingIterator:\n",
    "    \n",
    "    def __iter__(self):\n",
    "        self.count = 0\n",
    "        return(self)\n",
    "    \n",
    "    def __next__(self):\n",
    "        if self.count >= 10:\n",
    "            raise StopIteration\n",
    "        self.count = self.count + 1\n",
    "        return(self.count-1)\n",
    "        "
   ]
  },
  {
   "cell_type": "code",
   "execution_count": null,
   "metadata": {},
   "outputs": [],
   "source": [
    "x = AStoppingIterator()\n",
    "next(x)"
   ]
  },
  {
   "cell_type": "markdown",
   "metadata": {},
   "source": [
    "No call to **\\_\\_iter\\_\\_** means **self.count** is undefined. In a **for** loop there is an implicit call to get the iterator."
   ]
  },
  {
   "cell_type": "code",
   "execution_count": null,
   "metadata": {},
   "outputs": [],
   "source": [
    "for e in x:\n",
    "    print(e)"
   ]
  },
  {
   "cell_type": "markdown",
   "metadata": {},
   "source": [
    "You can see the exception by omitting the for loop and calling next sufficient number of times."
   ]
  },
  {
   "cell_type": "code",
   "execution_count": null,
   "metadata": {},
   "outputs": [],
   "source": [
    "x = iter(AStoppingIterator())\n",
    "next(x)\n",
    "next(x)\n",
    "next(x)\n",
    "next(x)\n",
    "next(x)\n",
    "next(x)\n",
    "next(x)\n",
    "next(x)\n",
    "next(x)\n",
    "next(x)\n",
    "next(x)\n",
    "next(x)\n"
   ]
  },
  {
   "cell_type": "markdown",
   "metadata": {},
   "source": [
    "And just to prove the point that to iterate over a class it only needs to return an **iterator** and need not provide **\\_\\_next\\_\\_**"
   ]
  },
  {
   "cell_type": "code",
   "execution_count": null,
   "metadata": {},
   "outputs": [],
   "source": [
    "class LookMaNoNext:\n",
    "    \n",
    "    def __iter__(self):\n",
    "        return AStoppingIterator()\n",
    "\n",
    "class AStoppingIterator:\n",
    "    \n",
    "    def __init__(self):\n",
    "        self.count = 0\n",
    "    \n",
    "    def __iter__(self):\n",
    "        return(self)\n",
    "    \n",
    "    def __next__(self):\n",
    "        if self.count >= 10:\n",
    "            raise StopIteration\n",
    "        self.count = self.count + 1\n",
    "        return(self.count-1)\n",
    "        "
   ]
  },
  {
   "cell_type": "code",
   "execution_count": null,
   "metadata": {},
   "outputs": [],
   "source": [
    "x = LookMaNoNext()\n",
    "for e in x:\n",
    "    print(e)"
   ]
  },
  {
   "cell_type": "markdown",
   "metadata": {},
   "source": [
    "### Generators"
   ]
  },
  {
   "cell_type": "markdown",
   "metadata": {},
   "source": [
    "A generator is a function that uses **yield**. The command **yield** is like **return** but it freezes the function execution right here so that the next call to the function continues from this point. These act as iterators, returning the yielded value.  A **return** from such a function raises the **StopIteration** exception."
   ]
  },
  {
   "cell_type": "code",
   "execution_count": null,
   "metadata": {},
   "outputs": [],
   "source": [
    "class AStoppingIterator:\n",
    "    \n",
    "    def mygenerator(self):\n",
    "        count = 0\n",
    "        while True:\n",
    "            if count >= 10:\n",
    "                return\n",
    "            count = count + 1\n",
    "            yield(count - 1)"
   ]
  },
  {
   "cell_type": "code",
   "execution_count": null,
   "metadata": {},
   "outputs": [],
   "source": [
    "x = AStoppingIterator()\n",
    "for e in x.mygenerator():\n",
    "    print(e)"
   ]
  },
  {
   "cell_type": "code",
   "execution_count": null,
   "metadata": {},
   "outputs": [],
   "source": [
    "class Test:\n",
    "    \n",
    "    def fn(self):\n",
    "        x = 5\n",
    "        yield(x)\n",
    "        print(1)\n",
    "        x = x+1\n",
    "        yield(x)"
   ]
  },
  {
   "cell_type": "code",
   "execution_count": null,
   "metadata": {},
   "outputs": [],
   "source": [
    "x = Test()\n",
    "for y in x.fn():\n",
    "    print(y)\n",
    "    print(\"---------\")"
   ]
  },
  {
   "cell_type": "markdown",
   "metadata": {},
   "source": [
    "### A python class for Graphs "
   ]
  },
  {
   "cell_type": "markdown",
   "metadata": {},
   "source": [
    "Let's begin with a adjacency matrix representation. We would like this detail to be hidden away and the user of this class should be able to use it transparently without concern about the underlying representation.\n",
    "\n",
    "As we have seen in our reachability and connected components algorithms, we will need the ability to \n",
    "       * iterate over vertices\n",
    "       * iterate over neighbours of a vertex.\n",
    "       \n",
    "We consider the iteration over vertices first and then iteration over neighbours.\n"
   ]
  },
  {
   "cell_type": "code",
   "execution_count": null,
   "metadata": {},
   "outputs": [],
   "source": [
    "import numpy as np\n",
    "class Graph:\n",
    "    \n",
    "    def __init__(self,n,E=[]):\n",
    "        self.N = n\n",
    "        self.AdjMat = np.zeros([self.N,self.N],dtype=np.int32)\n",
    "        for e in E:\n",
    "            x,y = e\n",
    "            self.AdjMat[x,y]=1\n",
    "            self.AdjMat[y,x]=1\n",
    "            \n",
    "    def __str__(self):\n",
    "        return str(self.AdjMat)\n",
    "        \n",
    "    def __iter__(self):\n",
    "        self.index = 0\n",
    "        return(self)\n",
    "        \n",
    "    def __next__(self):\n",
    "        if self.index >= self.N:\n",
    "            raise StopIteration\n",
    "        rval = self.index\n",
    "        self.index = self.index+1\n",
    "        return rval\n",
    "    \n",
    "            "
   ]
  },
  {
   "cell_type": "code",
   "execution_count": null,
   "metadata": {},
   "outputs": [],
   "source": [
    "G = Graph(6,[(1,2),(2,3),(3,4),(4,1),(5,0)])"
   ]
  },
  {
   "cell_type": "code",
   "execution_count": null,
   "metadata": {},
   "outputs": [],
   "source": [
    "for u in G:\n",
    "    print(u)"
   ]
  },
  {
   "cell_type": "code",
   "execution_count": null,
   "metadata": {},
   "outputs": [],
   "source": [
    "for u in G:\n",
    "    print(u)\n",
    "for v in G:\n",
    "    print(v)"
   ]
  },
  {
   "cell_type": "code",
   "execution_count": null,
   "metadata": {},
   "outputs": [],
   "source": [
    "for u in G:\n",
    "    for v in G:\n",
    "        print(u,v)"
   ]
  },
  {
   "cell_type": "markdown",
   "metadata": {},
   "source": [
    "So, that is not nice, but expected. The iterator has only one \"state\" and so if you want two of them in parallel they share their state.\n",
    "\n",
    "If you have two graphs instead of one then nested loops work. Each has its own state."
   ]
  },
  {
   "cell_type": "code",
   "execution_count": null,
   "metadata": {},
   "outputs": [],
   "source": [
    "H = Graph(3,[(0,1)])"
   ]
  },
  {
   "cell_type": "code",
   "execution_count": null,
   "metadata": {},
   "outputs": [],
   "source": [
    "for e in G:\n",
    "    for f in H:\n",
    "        print(e,f)"
   ]
  },
  {
   "cell_type": "markdown",
   "metadata": {},
   "source": [
    "Switching to generators won't solve it either."
   ]
  },
  {
   "cell_type": "code",
   "execution_count": null,
   "metadata": {},
   "outputs": [],
   "source": [
    "import numpy as np\n",
    "class Graph:\n",
    "    \n",
    "    def __init__(self,n,E=[]):\n",
    "        self.N = n\n",
    "        self.AdjMat = np.zeros([self.N,self.N],dtype=np.int32)\n",
    "        for e in E:\n",
    "            x,y = e\n",
    "            self.AdjMat[x,y]=1\n",
    "            self.AdjMat[y,x]=1\n",
    "            \n",
    "    def __str__(self):\n",
    "        return str(self.AdjMat)\n",
    "        \n",
    "    def vertices(self):\n",
    "        self.index = 0\n",
    "        while self.index < self.N:\n",
    "            yield self.index\n",
    "            self.index = self.index+1\n",
    "    \n",
    "            "
   ]
  },
  {
   "cell_type": "code",
   "execution_count": null,
   "metadata": {},
   "outputs": [],
   "source": [
    "G = Graph(6,[(1,2),(2,3),(3,4),(4,1),(5,0)])\n",
    "for v in G.vertices():\n",
    "    print(v)"
   ]
  },
  {
   "cell_type": "code",
   "execution_count": null,
   "metadata": {},
   "outputs": [],
   "source": [
    "for v in G.vertices():\n",
    "    for u in G.vertices():\n",
    "        print(v,u)"
   ]
  },
  {
   "cell_type": "markdown",
   "metadata": {},
   "source": [
    "This problem can be fixed by ensuring each iterator has its own state. \n",
    "\n",
    "So, we create a new object with the iterator so that it an keep this state."
   ]
  },
  {
   "cell_type": "code",
   "execution_count": null,
   "metadata": {},
   "outputs": [],
   "source": [
    "import numpy as np\n",
    "class Graph:\n",
    "    \n",
    "    def __init__(self,n,E=[]):\n",
    "        self.N = n\n",
    "        self.AdjMat = np.zeros([self.N,self.N],dtype=np.int32)\n",
    "        for e in E:\n",
    "            x,y = e\n",
    "            self.AdjMat[x,y]=1\n",
    "            self.AdjMat[y,x]=1\n",
    "            \n",
    "    def __str__(self):\n",
    "        return str(self.AdjMat)\n",
    "    \n",
    "    def __iter__(self):\n",
    "        return self.Vertices(self.N)\n",
    "    \n",
    "    class Vertices:\n",
    "        \n",
    "        def __init__(self,nu):\n",
    "            self.Nu = nu\n",
    "            self.index = 0\n",
    "        \n",
    "        def __iter__(self):\n",
    "            return(self)\n",
    "        \n",
    "        def __next__(self):\n",
    "            if self.index >= self.Nu:\n",
    "                raise StopIteration\n",
    "            rval = self.index\n",
    "            self.index = self.index+1\n",
    "            return rval\n",
    "            "
   ]
  },
  {
   "cell_type": "markdown",
   "metadata": {},
   "source": [
    "in above code we kept vertices class inside graph but to just show that it can be kept out also we have written the below code nothing much significant change occurs the logic remains same"
   ]
  },
  {
   "cell_type": "code",
   "execution_count": 1,
   "metadata": {},
   "outputs": [],
   "source": [
    "import numpy as np\n",
    "class Graph:\n",
    "    \n",
    "    def __init__(self,n,E=[]):\n",
    "        self.N = n\n",
    "        self.AdjMat = np.zeros([self.N,self.N],dtype=np.int32)\n",
    "        for e in E:\n",
    "            x,y = e\n",
    "            self.AdjMat[x,y]=1\n",
    "            self.AdjMat[y,x]=1\n",
    "            \n",
    "    def __str__(self):\n",
    "        return str(self.AdjMat)\n",
    "    \n",
    "    def __iter__(self):\n",
    "        return Vertices(self.N)\n",
    "    \n",
    "class Vertices:\n",
    "        \n",
    "    def __init__(self,nu):\n",
    "        self.Nu = nu\n",
    "        self.index = 0\n",
    "        \n",
    "    def __iter__(self):\n",
    "        return(self)\n",
    "        \n",
    "    def __next__(self):\n",
    "        if self.index >= self.Nu:\n",
    "            raise StopIteration\n",
    "        rval = self.index\n",
    "        self.index = self.index+1\n",
    "        return rval\n",
    "            "
   ]
  },
  {
   "cell_type": "code",
   "execution_count": 2,
   "metadata": {},
   "outputs": [],
   "source": [
    "G = Graph(6,[(1,2),(2,3),(3,4),(4,1),(5,0)])"
   ]
  },
  {
   "cell_type": "code",
   "execution_count": 3,
   "metadata": {},
   "outputs": [
    {
     "name": "stdout",
     "output_type": "stream",
     "text": [
      "0 0\n",
      "0 1\n",
      "0 2\n",
      "0 3\n",
      "0 4\n",
      "0 5\n",
      "1 0\n",
      "1 1\n",
      "1 2\n",
      "1 3\n",
      "1 4\n",
      "1 5\n",
      "2 0\n",
      "2 1\n",
      "2 2\n",
      "2 3\n",
      "2 4\n",
      "2 5\n",
      "3 0\n",
      "3 1\n",
      "3 2\n",
      "3 3\n",
      "3 4\n",
      "3 5\n",
      "4 0\n",
      "4 1\n",
      "4 2\n",
      "4 3\n",
      "4 4\n",
      "4 5\n",
      "5 0\n",
      "5 1\n",
      "5 2\n",
      "5 3\n",
      "5 4\n",
      "5 5\n"
     ]
    }
   ],
   "source": [
    "for i in G:\n",
    "    for j in G:\n",
    "        print(i,j)"
   ]
  }
 ],
 "metadata": {
  "kernelspec": {
   "display_name": "Python 3",
   "language": "python",
   "name": "python3"
  },
  "language_info": {
   "codemirror_mode": {
    "name": "ipython",
    "version": 3
   },
   "file_extension": ".py",
   "mimetype": "text/x-python",
   "name": "python",
   "nbconvert_exporter": "python",
   "pygments_lexer": "ipython3",
   "version": "3.7.3"
  }
 },
 "nbformat": 4,
 "nbformat_minor": 2
}
