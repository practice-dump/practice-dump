{
 "cells": [
  {
   "cell_type": "markdown",
   "metadata": {},
   "source": [
    "### A python class for Graphs "
   ]
  },
  {
   "cell_type": "markdown",
   "metadata": {},
   "source": [
    "Let's begin with a adjacency matrix representation. We would like this detail to be hidden away and the user of this class should be able to use it transparently without concern about the underlying representation.\n",
    "\n",
    "As we have seen in our reachability and connected components algorithms, we will need the ability to \n",
    "       * iterate over vertices\n",
    "       * iterate over neighbours of a vertex.\n",
    "       \n",
    "We consider the iteration over vertices first and then iteration over neighbours.\n"
   ]
  },
  {
   "cell_type": "code",
   "execution_count": null,
   "metadata": {},
   "outputs": [],
   "source": [
    "import numpy as np\n",
    "class Graph:\n",
    "    \n",
    "    def __init__(self,n,E=[]):\n",
    "        self.N = n\n",
    "        self.AdjMat = np.zeros([self.N,self.N],dtype=np.int32)\n",
    "        for e in E:\n",
    "            x,y = e\n",
    "            self.AdjMat[x,y]=1\n",
    "            self.AdjMat[y,x]=1\n",
    "            \n",
    "    def __str__(self):\n",
    "        return str(self.AdjMat)\n",
    "        \n",
    "    def __iter__(self):\n",
    "        self.index = 0\n",
    "        return(self)\n",
    "        \n",
    "    def __next__(self):\n",
    "        if self.index >= self.N:\n",
    "            raise StopIteration\n",
    "        rval = self.index\n",
    "        self.index = self.index+1\n",
    "        return rval\n",
    "    \n",
    "            "
   ]
  },
  {
   "cell_type": "code",
   "execution_count": null,
   "metadata": {},
   "outputs": [],
   "source": [
    "G = Graph(6,[(1,2),(2,3),(3,4),(4,1),(5,0)])"
   ]
  },
  {
   "cell_type": "code",
   "execution_count": null,
   "metadata": {},
   "outputs": [],
   "source": [
    "H = Graph(3,[(0,1)])"
   ]
  },
  {
   "cell_type": "code",
   "execution_count": null,
   "metadata": {},
   "outputs": [],
   "source": [
    "for u in G:\n",
    "    for v in H:\n",
    "        print(u,v)"
   ]
  },
  {
   "cell_type": "code",
   "execution_count": null,
   "metadata": {},
   "outputs": [],
   "source": [
    "for u in G:\n",
    "    for v in G:\n",
    "        print(u,v)"
   ]
  },
  {
   "cell_type": "markdown",
   "metadata": {},
   "source": [
    "This problem can be fixed by ensuring each iterator has its own state. \n",
    "\n",
    "So, we create a new object with the iterator so that it an keep this state."
   ]
  },
  {
   "cell_type": "code",
   "execution_count": null,
   "metadata": {},
   "outputs": [],
   "source": [
    "import numpy as np\n",
    "class Graph:\n",
    "    \n",
    "    def __init__(self,n,E=[]):\n",
    "        self.N = n\n",
    "        self.AdjMat = np.zeros([self.N,self.N],dtype=np.int32)\n",
    "        for e in E:\n",
    "            x,y = e\n",
    "            self.AdjMat[x,y]=1\n",
    "            self.AdjMat[y,x]=1\n",
    "            \n",
    "    def __str__(self):\n",
    "        return str(self.AdjMat)\n",
    "    \n",
    "    def __iter__(self):\n",
    "        return self.Vertices(self.N)\n",
    "    \n",
    "    class Vertices:\n",
    "        \n",
    "        def __init__(self,nu):\n",
    "            self.Nu = nu\n",
    "            self.index = 0\n",
    "        \n",
    "        def __iter__(self):\n",
    "            return(self)\n",
    "        \n",
    "        def __next__(self):\n",
    "            if self.index >= self.Nu:\n",
    "                raise StopIteration\n",
    "            rval = self.index\n",
    "            self.index = self.index+1\n",
    "            return rval\n",
    "            "
   ]
  },
  {
   "cell_type": "code",
   "execution_count": null,
   "metadata": {},
   "outputs": [],
   "source": [
    "G = Graph(6,[(1,2),(2,3),(3,4),(4,1),(5,0)])"
   ]
  },
  {
   "cell_type": "code",
   "execution_count": null,
   "metadata": {},
   "outputs": [],
   "source": [
    "for i in G:\n",
    "    for j in G:\n",
    "        print(i,j)"
   ]
  },
  {
   "cell_type": "markdown",
   "metadata": {},
   "source": [
    "We can go ahead and also get iterators for each vertex that allows us to iterate through their neighbours"
   ]
  },
  {
   "cell_type": "code",
   "execution_count": 1,
   "metadata": {},
   "outputs": [],
   "source": [
    "import numpy as np\n",
    "class Graph:\n",
    "    \n",
    "    def __init__(self,n,E=[]):\n",
    "        self.N = n\n",
    "        self.AdjMat = np.zeros([self.N,self.N],dtype=np.int32)\n",
    "        for e in E:\n",
    "            x,y = e\n",
    "            self.AdjMat[x,y]=1\n",
    "            self.AdjMat[y,x]=1\n",
    "            \n",
    "    def __str__(self):\n",
    "        return str(self.AdjMat)\n",
    "    \n",
    "    def __iter__(self):\n",
    "        return self.Vertices(self.N)\n",
    "    \n",
    "    def neighbours(self,v):\n",
    "        return(self.Neighbours(self.AdjMat[v,],self.N))\n",
    "    \n",
    "    class Vertices:\n",
    "        \n",
    "        def __init__(self,nu):\n",
    "            self.Nu = nu\n",
    "            self.index = 0\n",
    "        \n",
    "        def __iter__(self):\n",
    "            return(self)\n",
    "        \n",
    "        def __next__(self):\n",
    "            if self.index >= self.Nu:\n",
    "                raise StopIteration\n",
    "            rval = self.index\n",
    "            self.index = self.index+1\n",
    "            return rval\n",
    "    \n",
    "    class Neighbours:\n",
    "        \n",
    "        def __init__(self,row,nu):\n",
    "            self.pos = 0\n",
    "            self.row = row\n",
    "            self.Nu = nu\n",
    "        \n",
    "        def __iter__(self):\n",
    "            return(self)\n",
    "        \n",
    "        def __next__(self):\n",
    "            if self.pos >= self.Nu:\n",
    "                raise StopIteration\n",
    "            while self.row[self.pos] == 0: #continue till you get 1 or reach end of row\n",
    "                self.pos = self.pos+1\n",
    "                if self.pos >= self.Nu:\n",
    "                    raise StopIteration\n",
    "            rval = self.pos\n",
    "            self.pos = self.pos+1\n",
    "            return(rval)\n",
    "            \n",
    "            \n",
    "            "
   ]
  },
  {
   "cell_type": "code",
   "execution_count": null,
   "metadata": {},
   "outputs": [],
   "source": [
    "G = Graph(6,[(1,2),(2,3),(3,4),(4,1),(5,0)])"
   ]
  },
  {
   "cell_type": "code",
   "execution_count": null,
   "metadata": {},
   "outputs": [],
   "source": [
    "for u in G:\n",
    "    print(u,\" : \",end=\"\")\n",
    "    for v in G.neighbours(u):\n",
    "        print(\" \",v,end=\"\")\n",
    "    print()"
   ]
  },
  {
   "cell_type": "code",
   "execution_count": null,
   "metadata": {},
   "outputs": [],
   "source": [
    "def reach(G,v):  # returns the set of vertices reachable from v\n",
    "    UnExplored = {v}\n",
    "    Explored = set()\n",
    "    while UnExplored:\n",
    "        u = UnExplored.pop()\n",
    "        for v in G.neighbours(u):\n",
    "            if v not in Explored and v not in UnExplored:\n",
    "                UnExplored.add(v)\n",
    "        Explored.add(u)\n",
    "    return(Explored)"
   ]
  },
  {
   "cell_type": "code",
   "execution_count": null,
   "metadata": {},
   "outputs": [],
   "source": [
    "reach(G,3)"
   ]
  },
  {
   "cell_type": "code",
   "execution_count": null,
   "metadata": {},
   "outputs": [],
   "source": [
    "def breadthFS(G,v):\n",
    "    UnExplored = [v]  # A list to maintain a queue.\n",
    "    Explored = set()\n",
    "    while UnExplored:\n",
    "        u = UnExplored.pop(0)        # dequeue\n",
    "        for v in G.neighbours(u):\n",
    "            if v not in Explored and v not in UnExplored:\n",
    "                UnExplored.append(v) # enqueue\n",
    "        Explored.add(u)\n",
    "    return(Explored)"
   ]
  },
  {
   "cell_type": "markdown",
   "metadata": {},
   "source": [
    "#### breadthFS(G,3)"
   ]
  },
  {
   "cell_type": "code",
   "execution_count": null,
   "metadata": {},
   "outputs": [],
   "source": [
    "def depthFS(G,v):\n",
    "    UnExplored = [v]  # A list to maintain a stack.\n",
    "    Explored = set()\n",
    "    while UnExplored:\n",
    "        u = UnExplored.pop()        # pop from stack\n",
    "        for v in G.neighbours(u):\n",
    "            if v not in Explored and v not in UnExplored:\n",
    "                UnExplored.append(v) # push onto stack\n",
    "        Explored.add(u)\n",
    "    return(Explored)\n"
   ]
  },
  {
   "cell_type": "code",
   "execution_count": null,
   "metadata": {},
   "outputs": [],
   "source": [
    "def depthFS(G,v): # Almost the same as above, except the neighbours are processed in reverse order.\n",
    "    \n",
    "    def dfs(u):\n",
    "        Marked.add(u)\n",
    "        for w in G.neighbours(u):\n",
    "            if w not in Marked:\n",
    "                dfs(w)\n",
    "                \n",
    "    Marked = set()\n",
    "    dfs(v)\n",
    "    return(Marked)\n",
    "    "
   ]
  },
  {
   "cell_type": "code",
   "execution_count": null,
   "metadata": {},
   "outputs": [],
   "source": [
    "depthFS(G,1)"
   ]
  },
  {
   "cell_type": "code",
   "execution_count": null,
   "metadata": {},
   "outputs": [],
   "source": [
    "def ConnectedComponents(G,explore):\n",
    "    visited = set()\n",
    "    Components = []\n",
    "    for v in G:\n",
    "        if v not in visited:\n",
    "            Components.append(explore(G,v))\n",
    "        visited = visited | Components[-1]\n",
    "    return Components"
   ]
  },
  {
   "cell_type": "code",
   "execution_count": null,
   "metadata": {},
   "outputs": [],
   "source": [
    "ConnectedComponents(G,reach)"
   ]
  },
  {
   "cell_type": "code",
   "execution_count": null,
   "metadata": {},
   "outputs": [],
   "source": [
    "ConnectedComponents(G,depthFS)"
   ]
  },
  {
   "cell_type": "code",
   "execution_count": null,
   "metadata": {},
   "outputs": [],
   "source": [
    "ConnectedComponents(G,breadthFS)"
   ]
  },
  {
   "cell_type": "markdown",
   "metadata": {},
   "source": [
    "###  Switching to Adjacency Lists"
   ]
  },
  {
   "cell_type": "code",
   "execution_count": null,
   "metadata": {},
   "outputs": [],
   "source": [
    "import numpy as np\n",
    "class Graph:\n",
    "    \n",
    "    def __init__(self,n,E=[]):\n",
    "        self.N = n\n",
    "        self.AdjList = []\n",
    "        for i in range(n):\n",
    "            self.AdjList.append([])\n",
    "        for e in E:\n",
    "            x,y = e\n",
    "            self.AdjList[x].append(y)\n",
    "            self.AdjList[y].append(x)\n",
    "            \n",
    "    def __str__(self):\n",
    "        return str(self.AdjList)\n",
    "    \n",
    "    def neighbours(self,v):\n",
    "        return(self.Neighbours(self.AdjList[v]))\n",
    " \n",
    "    def __iter__(self):\n",
    "        return self.Vertices(self.N)\n",
    "    \n",
    "    class Vertices:\n",
    "        \n",
    "        def __init__(self,nu):\n",
    "            self.Nu = nu\n",
    "            self.index = 0\n",
    "        \n",
    "        def __iter__(self):\n",
    "            return(self)\n",
    "        \n",
    "        def __next__(self):\n",
    "            if self.index >= self.Nu:\n",
    "                raise StopIteration\n",
    "            rval = self.index\n",
    "            self.index = self.index+1\n",
    "            return rval\n",
    "    \n",
    "    class Neighbours:\n",
    "        \n",
    "        def __init__(self,ls):\n",
    "            self.pos = 0\n",
    "            self.list = ls\n",
    "        \n",
    "        def __iter__(self):\n",
    "            return(self)\n",
    "        \n",
    "        def __next__(self):\n",
    "            if self.pos >= len(self.list):\n",
    "                raise StopIteration\n",
    "            rval = self.list[self.pos]\n",
    "            self.pos = self.pos+1\n",
    "            return(rval)\n",
    "            \n",
    "            \n",
    "            "
   ]
  },
  {
   "cell_type": "code",
   "execution_count": null,
   "metadata": {},
   "outputs": [],
   "source": [
    "G = Graph(6,[(1,2),(2,3),(3,4),(4,1),(5,0)])\n",
    "print(G)"
   ]
  },
  {
   "cell_type": "code",
   "execution_count": null,
   "metadata": {},
   "outputs": [],
   "source": [
    "depthFS(G,2)"
   ]
  },
  {
   "cell_type": "code",
   "execution_count": null,
   "metadata": {},
   "outputs": [],
   "source": [
    "breadthFS(G,2)"
   ]
  },
  {
   "cell_type": "code",
   "execution_count": null,
   "metadata": {},
   "outputs": [],
   "source": [
    "import numpy as np\n",
    "class DGraph:\n",
    "    \n",
    "    def __init__(self,n,E=[]):\n",
    "        self.N = n\n",
    "        self.AdjList = []\n",
    "        for i in range(n):\n",
    "            self.AdjList.append([])\n",
    "        for e in E:\n",
    "            x,y = e\n",
    "            self.AdjList[x].append(y)\n",
    "            \n",
    "    def __str__(self):\n",
    "        return str(self.AdjList)\n",
    "    \n",
    "    def __iter__(self):\n",
    "        return self.Vertices(self.N)\n",
    "    \n",
    "    def neighbours(self,v):\n",
    "        return(self.Neighbours(self.AdjList[v]))\n",
    "    \n",
    "    class Vertices:\n",
    "        \n",
    "        def __init__(self,nu):\n",
    "            self.Nu = nu\n",
    "            self.index = 0\n",
    "        \n",
    "        def __iter__(self):\n",
    "            return(self)\n",
    "        \n",
    "        def __next__(self):\n",
    "            if self.index >= self.Nu:\n",
    "                raise StopIteration\n",
    "            rval = self.index\n",
    "            self.index = self.index+1\n",
    "            return rval\n",
    "    \n",
    "    class Neighbours:\n",
    "        \n",
    "        def __init__(self,ls):\n",
    "            self.pos = 0\n",
    "            self.list = ls\n",
    "        \n",
    "        def __iter__(self):\n",
    "            return(self)\n",
    "        \n",
    "        def __next__(self):\n",
    "            if self.pos >= len(self.list):\n",
    "                raise StopIteration\n",
    "            rval = self.list[self.pos]\n",
    "            self.pos = self.pos+1\n",
    "            return(rval)\n",
    "            \n",
    "            \n",
    "            "
   ]
  },
  {
   "cell_type": "code",
   "execution_count": null,
   "metadata": {},
   "outputs": [],
   "source": [
    "G = DGraph(6,[(1,2),(2,3),(3,4),(4,2),(0,5)])"
   ]
  },
  {
   "cell_type": "code",
   "execution_count": null,
   "metadata": {},
   "outputs": [],
   "source": [
    "for v in G:\n",
    "    print(v,\" : \",reach(G,v))"
   ]
  },
  {
   "cell_type": "code",
   "execution_count": null,
   "metadata": {},
   "outputs": [],
   "source": [
    "def breadthFSwithDistance(G,v):\n",
    "    UnExplored = [v]  # A list to maintain a queue.\n",
    "    d = {}\n",
    "    d[v] = 0\n",
    "    Explored = set()\n",
    "    while UnExplored:\n",
    "        u = UnExplored.pop(0)        # dequeue\n",
    "        for w in G.neighbours(u):\n",
    "            if w not in Explored and w not in UnExplored:\n",
    "                UnExplored.append(w) # enqueue\n",
    "                d[w] = d[u] + 1\n",
    "        Explored.add(u)\n",
    "    return(d)"
   ]
  },
  {
   "cell_type": "code",
   "execution_count": null,
   "metadata": {},
   "outputs": [],
   "source": [
    "for v in G:\n",
    "    print(v,\" : \",breadthFSwithDistance(G,v))"
   ]
  },
  {
   "cell_type": "markdown",
   "metadata": {},
   "source": [
    "You could also implement graphs without iterators as follows:"
   ]
  },
  {
   "cell_type": "code",
   "execution_count": null,
   "metadata": {},
   "outputs": [],
   "source": [
    "class GraphTrivial:\n",
    "    \n",
    "    def __init__(self,n,E=[]):\n",
    "        self.N = n\n",
    "        self.AdjList = []\n",
    "        for i in range(n):\n",
    "            self.AdjList.append([])\n",
    "        for e in E:\n",
    "            x,y = e\n",
    "            self.AdjList[x].append(y)\n",
    "            self.AdjList[y].append(x)\n",
    "            \n",
    "    def __str__(self):\n",
    "        return str(self.AdjList)\n",
    "    \n",
    "    def vertices(self):\n",
    "        return(list(range(n)))\n",
    "    \n",
    "    def neighbours(self,v):\n",
    "        return(self.AdjList[v].copy())"
   ]
  },
  {
   "cell_type": "code",
   "execution_count": null,
   "metadata": {},
   "outputs": [],
   "source": [
    "G = GraphTrivial(6,[(1,2),(2,3),(3,4),(4,2),(0,5)])"
   ]
  },
  {
   "cell_type": "code",
   "execution_count": 2,
   "metadata": {},
   "outputs": [],
   "source": [
    "g2=Graph(4,[(1,2),(1,3)])\n"
   ]
  }
 ],
 "metadata": {
  "kernelspec": {
   "display_name": "Python 3",
   "language": "python",
   "name": "python3"
  },
  "language_info": {
   "codemirror_mode": {
    "name": "ipython",
    "version": 3
   },
   "file_extension": ".py",
   "mimetype": "text/x-python",
   "name": "python",
   "nbconvert_exporter": "python",
   "pygments_lexer": "ipython3",
   "version": "3.7.3"
  }
 },
 "nbformat": 4,
 "nbformat_minor": 2
}
