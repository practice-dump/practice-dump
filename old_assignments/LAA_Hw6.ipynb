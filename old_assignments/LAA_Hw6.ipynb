{
 "cells": [
  {
   "cell_type": "markdown",
   "metadata": {},
   "source": [
    "# Question 3"
   ]
  },
  {
   "cell_type": "code",
   "execution_count": 1,
   "metadata": {},
   "outputs": [],
   "source": [
    "import numpy as np\n",
    "from numpy import linalg as LA"
   ]
  },
  {
   "cell_type": "code",
   "execution_count": 2,
   "metadata": {},
   "outputs": [],
   "source": [
    "A = np.array([[3,3],[4,4],[0,6],[0,8]])"
   ]
  },
  {
   "cell_type": "markdown",
   "metadata": {},
   "source": [
    "# CGS"
   ]
  },
  {
   "cell_type": "code",
   "execution_count": 3,
   "metadata": {},
   "outputs": [],
   "source": [
    "#CGS\n",
    "def cgs(A):\n",
    "    m,n=A.shape\n",
    "    Q=np.zeros((m,n))\n",
    "    R=np.zeros((n,n))\n",
    "    V=np.zeros((m,n))\n",
    "    for j in range(0,n):\n",
    "        V[:,j]=A[:,j]\n",
    "        for i in range(0,j):\n",
    "            R[i,j]=np.dot(Q[:,i].T,V[:,j])\n",
    "            V[:,j]=V[:,j]-R[i,j]*Q[:,i]\n",
    "        R[j,j]=LA.norm(V[:,j],2)\n",
    "        Q[:,j]=V[:,j]/R[j,j]  \n",
    "    return(Q,R)"
   ]
  },
  {
   "cell_type": "code",
   "execution_count": 4,
   "metadata": {},
   "outputs": [],
   "source": [
    "Q_C,R_C=cgs(A)"
   ]
  },
  {
   "cell_type": "markdown",
   "metadata": {},
   "source": [
    "### Output of CGS"
   ]
  },
  {
   "cell_type": "code",
   "execution_count": 5,
   "metadata": {},
   "outputs": [
    {
     "name": "stdout",
     "output_type": "stream",
     "text": [
      "Q\n",
      "[[0.6 0. ]\n",
      " [0.8 0. ]\n",
      " [0.  0.6]\n",
      " [0.  0.8]]\n",
      "\n",
      "R\n",
      "[[ 5.  5.]\n",
      " [ 0. 10.]]\n"
     ]
    }
   ],
   "source": [
    "print(\"Q\")\n",
    "print(Q_C)\n",
    "print(\"\")\n",
    "print(\"R\")\n",
    "print(R_C)"
   ]
  },
  {
   "cell_type": "markdown",
   "metadata": {},
   "source": [
    "## MGS"
   ]
  },
  {
   "cell_type": "code",
   "execution_count": 6,
   "metadata": {},
   "outputs": [],
   "source": [
    "#MGS\n",
    "def mgs(A):\n",
    "    m,n=A.shape\n",
    "    Q=np.zeros((m,n))\n",
    "    R=np.zeros((n,n))\n",
    "    V=np.zeros((m,n))\n",
    "    for i in range(0,n):\n",
    "        V[:,i]=A[:,i]    \n",
    "    for i in range(0,n):\n",
    "        R[i,i]=LA.norm(V[:,i],2)\n",
    "        Q[:,i]=V[:,i]/R[i,i]\n",
    "        for j in range(i+1,n):\n",
    "            R[i,j]=np.dot(Q[:,i].T,V[:,j])\n",
    "            V[:,j]=V[:,j]-R[i,j]*Q[:,i]\n",
    "    return(Q,R)"
   ]
  },
  {
   "cell_type": "code",
   "execution_count": 7,
   "metadata": {},
   "outputs": [],
   "source": [
    "Q_M,R_M=mgs(A)"
   ]
  },
  {
   "cell_type": "markdown",
   "metadata": {},
   "source": [
    "### Output of MGS"
   ]
  },
  {
   "cell_type": "code",
   "execution_count": 8,
   "metadata": {},
   "outputs": [
    {
     "name": "stdout",
     "output_type": "stream",
     "text": [
      "Q\n",
      "[[0.6 0. ]\n",
      " [0.8 0. ]\n",
      " [0.  0.6]\n",
      " [0.  0.8]]\n",
      "\n",
      "R\n",
      "[[ 5.  5.]\n",
      " [ 0. 10.]]\n"
     ]
    }
   ],
   "source": [
    "print(\"Q\")\n",
    "print(Q_M)\n",
    "print(\"\")\n",
    "print(\"R\")\n",
    "print(R_M)"
   ]
  },
  {
   "cell_type": "markdown",
   "metadata": {},
   "source": [
    "# Question 4"
   ]
  },
  {
   "cell_type": "code",
   "execution_count": 9,
   "metadata": {},
   "outputs": [],
   "source": [
    "from math import copysign, hypot"
   ]
  },
  {
   "cell_type": "code",
   "execution_count": 10,
   "metadata": {},
   "outputs": [],
   "source": [
    "A2=np.array([[1,1],[1,2],[1,3]])"
   ]
  },
  {
   "cell_type": "markdown",
   "metadata": {},
   "source": [
    "## Givens Rotation"
   ]
  },
  {
   "cell_type": "code",
   "execution_count": 11,
   "metadata": {},
   "outputs": [],
   "source": [
    "def givens_rotation(A):\n",
    "    m2,n2=A2.shape\n",
    "    Q = np.identity(m2)\n",
    "    R = np.copy(A)\n",
    "    (rows, cols) = np.tril_indices(m2, -1, n2)\n",
    "    for (row, col) in zip(rows, cols):\n",
    "        if R[row, col] != 0:\n",
    "            (c, s) = _givens_rotation_matrix(R[col, col], R[row, col])\n",
    "            G = np.identity(m2)\n",
    "            G[[col, row], [col, row]] = c\n",
    "            G[row, col] = s\n",
    "            G[col, row] = -s\n",
    "            R = np.dot(G, R)\n",
    "            Q = np.dot(Q, G.T)\n",
    "\n",
    "    return (Q, R)\n",
    "\n",
    "\n",
    "def _givens_rotation_matrix(a, b):\n",
    "    r = hypot(a, b)\n",
    "    c = a/r\n",
    "    s = -b/r\n",
    "\n",
    "    return (c, s)"
   ]
  },
  {
   "cell_type": "code",
   "execution_count": 12,
   "metadata": {},
   "outputs": [],
   "source": [
    "Q_G,R_G=givens_rotation(A2)"
   ]
  },
  {
   "cell_type": "markdown",
   "metadata": {},
   "source": [
    "### Output of Givens Rotation Method"
   ]
  },
  {
   "cell_type": "code",
   "execution_count": 13,
   "metadata": {},
   "outputs": [
    {
     "name": "stdout",
     "output_type": "stream",
     "text": [
      "Q\n",
      "[[ 5.77350269e-01 -7.07106781e-01  4.08248290e-01]\n",
      " [ 5.77350269e-01 -1.16069829e-17 -8.16496581e-01]\n",
      " [ 5.77350269e-01  7.07106781e-01  4.08248290e-01]]\n",
      "\n",
      "R\n",
      "[[1.73205081 3.46410162]\n",
      " [0.         1.41421356]\n",
      " [0.         0.        ]]\n"
     ]
    }
   ],
   "source": [
    "print(\"Q\")\n",
    "print(Q_G)\n",
    "print(\"\")\n",
    "print(\"R\")\n",
    "print(R_G)"
   ]
  },
  {
   "cell_type": "markdown",
   "metadata": {},
   "source": [
    "## Householder Method"
   ]
  },
  {
   "cell_type": "code",
   "execution_count": 14,
   "metadata": {},
   "outputs": [],
   "source": [
    "def column_convertor(x):\n",
    "    x.shape = (1, x.shape[0])\n",
    "    return x\n",
    "\n",
    "def householder_logic(x):\n",
    "    e1=np.zeros(x.shape[1])\n",
    "    e1[0]=1\n",
    "    v_temp=LA.norm(x,2)*e1\n",
    "    if v_temp[0]<0:\n",
    "        v_temp=-v_temp\n",
    "    v=x+v_temp\n",
    "    p=np.matmul(v.T,v)\n",
    "    l=LA.norm(v,2)**2\n",
    "    H=np.identity(x.shape[1])-2*(np.matmul(v.T,v)/(LA.norm(v,2)**2))\n",
    "    return H\n",
    "\n"
   ]
  },
  {
   "cell_type": "code",
   "execution_count": 15,
   "metadata": {},
   "outputs": [],
   "source": [
    "def householder_service(A):\n",
    "    m,n = A.shape\n",
    "    Q=np.identity(m)\n",
    "    R=np.copy(A)\n",
    "    for i in range(0,n):\n",
    "        x=R[i:,i]\n",
    "        x=column_convertor(x)\n",
    "        H=householder_logic(x)\n",
    "        Q_temp=np.identity(m)\n",
    "        Q_temp[i:,i:]=H\n",
    "        R=np.matmul(Q_temp, R)\n",
    "        Q=np.matmul(Q, Q_temp)\n",
    "    return (Q,R)"
   ]
  },
  {
   "cell_type": "code",
   "execution_count": 16,
   "metadata": {},
   "outputs": [],
   "source": [
    "Q_H,R_H=householder_service(A2)"
   ]
  },
  {
   "cell_type": "markdown",
   "metadata": {},
   "source": [
    "## Output of Householder Method"
   ]
  },
  {
   "cell_type": "code",
   "execution_count": 17,
   "metadata": {},
   "outputs": [
    {
     "name": "stdout",
     "output_type": "stream",
     "text": [
      "Q\n",
      "[[-0.5774  0.7071  0.4082]\n",
      " [-0.5774 -0.     -0.8165]\n",
      " [-0.5774 -0.7071  0.4082]]\n",
      "\n",
      "R\n",
      "[[-1.7321 -3.4641]\n",
      " [-0.     -1.4142]\n",
      " [-0.     -0.    ]]\n"
     ]
    }
   ],
   "source": [
    "print(\"Q\")\n",
    "print(np.around(Q_H,4))\n",
    "print(\"\")\n",
    "print(\"R\")\n",
    "print(np.around(R_H,4))"
   ]
  }
 ],
 "metadata": {
  "kernelspec": {
   "display_name": "Python 3",
   "language": "python",
   "name": "python3"
  },
  "language_info": {
   "codemirror_mode": {
    "name": "ipython",
    "version": 3
   },
   "file_extension": ".py",
   "mimetype": "text/x-python",
   "name": "python",
   "nbconvert_exporter": "python",
   "pygments_lexer": "ipython3",
   "version": "3.7.3"
  }
 },
 "nbformat": 4,
 "nbformat_minor": 2
}
