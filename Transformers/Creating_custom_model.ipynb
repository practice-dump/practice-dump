{
  "nbformat": 4,
  "nbformat_minor": 0,
  "metadata": {
    "colab": {
      "provenance": [],
      "authorship_tag": "ABX9TyOz0JgntIgCDxW5hju8eiYo",
      "include_colab_link": true
    },
    "kernelspec": {
      "name": "python3",
      "display_name": "Python 3"
    },
    "language_info": {
      "name": "python"
    }
  },
  "cells": [
    {
      "cell_type": "markdown",
      "metadata": {
        "id": "view-in-github",
        "colab_type": "text"
      },
      "source": [
        "<a href=\"https://colab.research.google.com/github/practice-dump/practice-dump/blob/main/Creating_custom_model.ipynb\" target=\"_parent\"><img src=\"https://colab.research.google.com/assets/colab-badge.svg\" alt=\"Open In Colab\"/></a>"
      ]
    },
    {
      "cell_type": "code",
      "execution_count": null,
      "metadata": {
        "id": "Bu-d0aDp0_BK"
      },
      "outputs": [],
      "source": [
        "!pip install transformers datasets"
      ]
    },
    {
      "cell_type": "markdown",
      "source": [
        "## Creating a custom config"
      ],
      "metadata": {
        "id": "1adYCXPI0lnp"
      }
    },
    {
      "cell_type": "code",
      "source": [
        "from transformers import PretrainedConfig\n",
        "from typing import List\n",
        "\n",
        "\n",
        "class ResnetConfig(PretrainedConfig):\n",
        "    model_type = \"resnet\" ## is not mandatory, unless we want to register your model with the auto classes\n",
        "\n",
        "    def __init__(\n",
        "        self,\n",
        "        block_type=\"bottleneck\",\n",
        "        layers: List[int] = [3, 4, 6, 3],\n",
        "        num_classes: int = 1000,\n",
        "        input_channels: int = 3,\n",
        "        cardinality: int = 1,\n",
        "        base_width: int = 64,\n",
        "        stem_width: int = 64,\n",
        "        stem_type: str = \"\",\n",
        "        avg_down: bool = False,\n",
        "        **kwargs,\n",
        "    ):\n",
        "        if block_type not in [\"basic\", \"bottleneck\"]:\n",
        "            raise ValueError(f\"`block_type` must be 'basic' or bottleneck', got {block_type}.\")\n",
        "        if stem_type not in [\"\", \"deep\", \"deep-tiered\"]:\n",
        "            raise ValueError(f\"`stem_type` must be '', 'deep' or 'deep-tiered', got {stem_type}.\")\n",
        "\n",
        "        self.block_type = block_type\n",
        "        self.layers = layers\n",
        "        self.num_classes = num_classes\n",
        "        self.input_channels = input_channels\n",
        "        self.cardinality = cardinality\n",
        "        self.base_width = base_width\n",
        "        self.stem_width = stem_width\n",
        "        self.stem_type = stem_type\n",
        "        self.avg_down = avg_down\n",
        "        super().__init__(**kwargs)"
      ],
      "metadata": {
        "id": "09ZUqb4V0jW3"
      },
      "execution_count": 2,
      "outputs": []
    },
    {
      "cell_type": "markdown",
      "source": [
        "The three important things to remember when writing you own configuration are the following:\n",
        "\n",
        "*   you have to inherit from PretrainedConfig\n",
        "*   the __init__ of your PretrainedConfig must accept any kwargs\n",
        "*   those kwargs need to be passed to the superclass __init__."
      ],
      "metadata": {
        "id": "JZ16uhdw1P3R"
      }
    },
    {
      "cell_type": "markdown",
      "source": [
        "The inheritance is to make sure you get all the functionality from the 🤗 Transformers library, while the two other constraints come from the fact a PretrainedConfig has more fields than the ones you are setting. When reloading a config with the from_pretrained method, those fields need to be accepted by your config and then sent to the superclass."
      ],
      "metadata": {
        "id": "qwWbULir1xqh"
      }
    },
    {
      "cell_type": "code",
      "source": [
        "resnet50d_config = ResnetConfig(block_type=\"bottleneck\", stem_width=32, stem_type=\"deep\", avg_down=True)\n",
        "resnet50d_config.save_pretrained(\"custom-resnet\")"
      ],
      "metadata": {
        "id": "NpUPjR8_1jSS"
      },
      "execution_count": 3,
      "outputs": []
    },
    {
      "cell_type": "code",
      "source": [
        "resnet50d_config = ResnetConfig.from_pretrained(\"custom-resnet\")"
      ],
      "metadata": {
        "id": "r4sE-bL72KVy"
      },
      "execution_count": 4,
      "outputs": []
    },
    {
      "cell_type": "markdown",
      "source": [
        "## Writing Custom Model\n",
        "\n",
        "We will writing two models\n",
        "\n",
        "\n",
        "*   One that provides hidden state\n",
        "*   One that provides labels (Like Image classification)\n",
        "\n"
      ],
      "metadata": {
        "id": "q0H1MG2T2vMC"
      }
    },
    {
      "cell_type": "markdown",
      "source": [
        "The only thing we need to do before writing this class is a map between the block types and actual block classes. Then the model is defined from the configuration by passing everything to the ResNet class\n"
      ],
      "metadata": {
        "id": "lxRH5Z-b35Fb"
      }
    },
    {
      "cell_type": "code",
      "source": [
        "from transformers import PreTrainedModel\n",
        "from timm.models.resnet import BasicBlock, Bottleneck, ResNet\n",
        "#from .configuration_resnet import ResnetConfig\n",
        "\n",
        "\n",
        "BLOCK_MAPPING = {\"basic\": BasicBlock, \"bottleneck\": Bottleneck}\n",
        "\n",
        "\n",
        "class ResnetModel(PreTrainedModel):\n",
        "    config_class = ResnetConfig\n",
        "\n",
        "    def __init__(self, config):\n",
        "        super().__init__(config)\n",
        "        block_layer = BLOCK_MAPPING[config.block_type]\n",
        "        self.model = ResNet(\n",
        "            block_layer,\n",
        "            config.layers,\n",
        "            num_classes=config.num_classes,\n",
        "            in_chans=config.input_channels,\n",
        "            cardinality=config.cardinality,\n",
        "            base_width=config.base_width,\n",
        "            stem_width=config.stem_width,\n",
        "            stem_type=config.stem_type,\n",
        "            avg_down=config.avg_down,\n",
        "        )\n",
        "\n",
        "    def forward(self, tensor):\n",
        "        return self.model.forward_features(tensor)"
      ],
      "metadata": {
        "id": "gkRn3yjx2gff"
      },
      "execution_count": 8,
      "outputs": []
    },
    {
      "cell_type": "code",
      "source": [
        "import torch\n",
        "\n",
        "\n",
        "class ResnetModelForImageClassification(PreTrainedModel):\n",
        "    config_class = ResnetConfig\n",
        "\n",
        "    def __init__(self, config):\n",
        "        super().__init__(config)\n",
        "        block_layer = BLOCK_MAPPING[config.block_type]\n",
        "        self.model = ResNet(\n",
        "            block_layer,\n",
        "            config.layers,\n",
        "            num_classes=config.num_classes,\n",
        "            in_chans=config.input_channels,\n",
        "            cardinality=config.cardinality,\n",
        "            base_width=config.base_width,\n",
        "            stem_width=config.stem_width,\n",
        "            stem_type=config.stem_type,\n",
        "            avg_down=config.avg_down,\n",
        "        )\n",
        "\n",
        "    def forward(self, tensor, labels=None):\n",
        "        logits = self.model(tensor)\n",
        "        if labels is not None:\n",
        "            loss = torch.nn.cross_entropy(logits, labels)\n",
        "            return {\"loss\": loss, \"logits\": logits}\n",
        "        return {\"logits\": logits}"
      ],
      "metadata": {
        "id": "xsqrN0KO4IkD"
      },
      "execution_count": 9,
      "outputs": []
    },
    {
      "cell_type": "markdown",
      "source": [
        "You can have your model return anything you want, but returning a dictionary like we did for ResnetModelForImageClassification, with the loss included when labels are passed, will make your model directly usable inside the Trainer class. Using another output format is fine as long as you are planning on using your own training loop or another library for training."
      ],
      "metadata": {
        "id": "5yWg-pRi44hm"
      }
    },
    {
      "cell_type": "markdown",
      "source": [
        "## Loading model from our custom Config"
      ],
      "metadata": {
        "id": "QC_P1u0d4YWK"
      }
    },
    {
      "cell_type": "code",
      "source": [
        "resnet50d = ResnetModelForImageClassification(resnet50d_config)"
      ],
      "metadata": {
        "id": "FCGMdKk-4VxV"
      },
      "execution_count": 10,
      "outputs": []
    },
    {
      "cell_type": "markdown",
      "source": [
        "Loading model with pretrained weights"
      ],
      "metadata": {
        "id": "sxap_j0-5L3C"
      }
    },
    {
      "cell_type": "code",
      "source": [
        "import timm\n",
        "\n",
        "pretrained_model = timm.create_model(\"resnet50d\", pretrained=True)\n",
        "resnet50d.model.load_state_dict(pretrained_model.state_dict())"
      ],
      "metadata": {
        "colab": {
          "base_uri": "https://localhost:8080/"
        },
        "id": "B-PVvbHO5Kdl",
        "outputId": "1c58d2c7-bf01-4bad-eee4-093cf18f43cf"
      },
      "execution_count": 11,
      "outputs": [
        {
          "output_type": "stream",
          "name": "stderr",
          "text": [
            "Downloading: \"https://github.com/rwightman/pytorch-image-models/releases/download/v0.1-weights/resnet50d_ra2-464e36ba.pth\" to /root/.cache/torch/hub/checkpoints/resnet50d_ra2-464e36ba.pth\n"
          ]
        },
        {
          "output_type": "execute_result",
          "data": {
            "text/plain": [
              "<All keys matched successfully>"
            ]
          },
          "metadata": {},
          "execution_count": 11
        }
      ]
    },
    {
      "cell_type": "markdown",
      "source": [
        "ResnetConfig.register_for_auto_class()\n",
        "\n",
        "ResnetModel.register_for_auto_class(\"AutoModel\")\n",
        "\n",
        "ResnetModelForImageClassification.register_for_auto_class(\"AutoModelForImageClassification\")\n",
        "\n",
        "We can use the following commands to register for auto class"
      ],
      "metadata": {
        "id": "L1hCjgxt6Ix1"
      }
    },
    {
      "cell_type": "code",
      "source": [],
      "metadata": {
        "id": "nvBQm9g95lgK"
      },
      "execution_count": null,
      "outputs": []
    }
  ]
}
